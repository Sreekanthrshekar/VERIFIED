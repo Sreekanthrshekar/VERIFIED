{
 "metadata": {
  "language_info": {
   "codemirror_mode": {
    "name": "ipython",
    "version": 3
   },
   "file_extension": ".py",
   "mimetype": "text/x-python",
   "name": "python",
   "nbconvert_exporter": "python",
   "pygments_lexer": "ipython3",
   "version": "3.7.7"
  },
  "orig_nbformat": 2,
  "kernelspec": {
   "name": "python377jvsc74a57bd015dca31b23c05f6c36fb8897e042fbfe1a28921248a97a64d1c94e60f50d0c0d",
   "display_name": "Python 3.7.7 64-bit ('pers_proj': conda)"
  },
  "metadata": {
   "interpreter": {
    "hash": "15dca31b23c05f6c36fb8897e042fbfe1a28921248a97a64d1c94e60f50d0c0d"
   }
  }
 },
 "nbformat": 4,
 "nbformat_minor": 2,
 "cells": [
  {
   "source": [
    "# **DATA ANALYSIS ON SF SALARIES**"
   ],
   "cell_type": "markdown",
   "metadata": {}
  },
  {
   "cell_type": "code",
   "execution_count": 3,
   "metadata": {},
   "outputs": [],
   "source": [
    "import pandas as pd\n",
    "import numpy as np"
   ]
  },
  {
   "cell_type": "code",
   "execution_count": null,
   "metadata": {},
   "outputs": [],
   "source": []
  }
 ]
}