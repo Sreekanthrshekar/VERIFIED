{
 "metadata": {
  "language_info": {
   "codemirror_mode": {
    "name": "ipython",
    "version": 3
   },
   "file_extension": ".py",
   "mimetype": "text/x-python",
   "name": "python",
   "nbconvert_exporter": "python",
   "pygments_lexer": "ipython3",
   "version": "3.7.7"
  },
  "orig_nbformat": 2,
  "kernelspec": {
   "name": "python377jvsc74a57bd015dca31b23c05f6c36fb8897e042fbfe1a28921248a97a64d1c94e60f50d0c0d",
   "display_name": "Python 3.7.7 64-bit ('pers_proj': conda)"
  },
  "metadata": {
   "interpreter": {
    "hash": "15dca31b23c05f6c36fb8897e042fbfe1a28921248a97a64d1c94e60f50d0c0d"
   }
  }
 },
 "nbformat": 4,
 "nbformat_minor": 2,
 "cells": [
  {
   "source": [
    "# **DATA ANALYSIS ON SF SALARIES**"
   ],
   "cell_type": "markdown",
   "metadata": {}
  },
  {
   "cell_type": "code",
   "execution_count": 1,
   "metadata": {},
   "outputs": [],
   "source": [
    "import pandas as pd\n",
    "import numpy as np"
   ]
  },
  {
   "cell_type": "code",
   "execution_count": 2,
   "metadata": {},
   "outputs": [
    {
     "output_type": "execute_result",
     "data": {
      "text/plain": [
       "            Id       EmployeeName  \\\n",
       "0            1     NATHANIEL FORD   \n",
       "1            2       GARY JIMENEZ   \n",
       "2            3     ALBERT PARDINI   \n",
       "3            4  CHRISTOPHER CHONG   \n",
       "4            5    PATRICK GARDNER   \n",
       "...        ...                ...   \n",
       "148649  148650      Roy I Tillery   \n",
       "148650  148651       Not provided   \n",
       "148651  148652       Not provided   \n",
       "148652  148653       Not provided   \n",
       "148653  148654          Joe Lopez   \n",
       "\n",
       "                                              JobTitle    BasePay  \\\n",
       "0       GENERAL MANAGER-METROPOLITAN TRANSIT AUTHORITY  167411.18   \n",
       "1                      CAPTAIN III (POLICE DEPARTMENT)  155966.02   \n",
       "2                      CAPTAIN III (POLICE DEPARTMENT)  212739.13   \n",
       "3                 WIRE ROPE CABLE MAINTENANCE MECHANIC   77916.00   \n",
       "4         DEPUTY CHIEF OF DEPARTMENT,(FIRE DEPARTMENT)  134401.60   \n",
       "...                                                ...        ...   \n",
       "148649                                       Custodian       0.00   \n",
       "148650                                    Not provided        NaN   \n",
       "148651                                    Not provided        NaN   \n",
       "148652                                    Not provided        NaN   \n",
       "148653                      Counselor, Log Cabin Ranch       0.00   \n",
       "\n",
       "        OvertimePay   OtherPay  Benefits   TotalPay  TotalPayBenefits  Year  \\\n",
       "0              0.00  400184.25       NaN  567595.43         567595.43  2011   \n",
       "1         245131.88  137811.38       NaN  538909.28         538909.28  2011   \n",
       "2         106088.18   16452.60       NaN  335279.91         335279.91  2011   \n",
       "3          56120.71  198306.90       NaN  332343.61         332343.61  2011   \n",
       "4           9737.00  182234.59       NaN  326373.19         326373.19  2011   \n",
       "...             ...        ...       ...        ...               ...   ...   \n",
       "148649         0.00       0.00       0.0       0.00              0.00  2014   \n",
       "148650          NaN        NaN       NaN       0.00              0.00  2014   \n",
       "148651          NaN        NaN       NaN       0.00              0.00  2014   \n",
       "148652          NaN        NaN       NaN       0.00              0.00  2014   \n",
       "148653         0.00    -618.13       0.0    -618.13           -618.13  2014   \n",
       "\n",
       "        Notes         Agency  Status  \n",
       "0         NaN  San Francisco     NaN  \n",
       "1         NaN  San Francisco     NaN  \n",
       "2         NaN  San Francisco     NaN  \n",
       "3         NaN  San Francisco     NaN  \n",
       "4         NaN  San Francisco     NaN  \n",
       "...       ...            ...     ...  \n",
       "148649    NaN  San Francisco     NaN  \n",
       "148650    NaN  San Francisco     NaN  \n",
       "148651    NaN  San Francisco     NaN  \n",
       "148652    NaN  San Francisco     NaN  \n",
       "148653    NaN  San Francisco     NaN  \n",
       "\n",
       "[148654 rows x 13 columns]"
      ],
      "text/html": "<div>\n<style scoped>\n    .dataframe tbody tr th:only-of-type {\n        vertical-align: middle;\n    }\n\n    .dataframe tbody tr th {\n        vertical-align: top;\n    }\n\n    .dataframe thead th {\n        text-align: right;\n    }\n</style>\n<table border=\"1\" class=\"dataframe\">\n  <thead>\n    <tr style=\"text-align: right;\">\n      <th></th>\n      <th>Id</th>\n      <th>EmployeeName</th>\n      <th>JobTitle</th>\n      <th>BasePay</th>\n      <th>OvertimePay</th>\n      <th>OtherPay</th>\n      <th>Benefits</th>\n      <th>TotalPay</th>\n      <th>TotalPayBenefits</th>\n      <th>Year</th>\n      <th>Notes</th>\n      <th>Agency</th>\n      <th>Status</th>\n    </tr>\n  </thead>\n  <tbody>\n    <tr>\n      <th>0</th>\n      <td>1</td>\n      <td>NATHANIEL FORD</td>\n      <td>GENERAL MANAGER-METROPOLITAN TRANSIT AUTHORITY</td>\n      <td>167411.18</td>\n      <td>0.00</td>\n      <td>400184.25</td>\n      <td>NaN</td>\n      <td>567595.43</td>\n      <td>567595.43</td>\n      <td>2011</td>\n      <td>NaN</td>\n      <td>San Francisco</td>\n      <td>NaN</td>\n    </tr>\n    <tr>\n      <th>1</th>\n      <td>2</td>\n      <td>GARY JIMENEZ</td>\n      <td>CAPTAIN III (POLICE DEPARTMENT)</td>\n      <td>155966.02</td>\n      <td>245131.88</td>\n      <td>137811.38</td>\n      <td>NaN</td>\n      <td>538909.28</td>\n      <td>538909.28</td>\n      <td>2011</td>\n      <td>NaN</td>\n      <td>San Francisco</td>\n      <td>NaN</td>\n    </tr>\n    <tr>\n      <th>2</th>\n      <td>3</td>\n      <td>ALBERT PARDINI</td>\n      <td>CAPTAIN III (POLICE DEPARTMENT)</td>\n      <td>212739.13</td>\n      <td>106088.18</td>\n      <td>16452.60</td>\n      <td>NaN</td>\n      <td>335279.91</td>\n      <td>335279.91</td>\n      <td>2011</td>\n      <td>NaN</td>\n      <td>San Francisco</td>\n      <td>NaN</td>\n    </tr>\n    <tr>\n      <th>3</th>\n      <td>4</td>\n      <td>CHRISTOPHER CHONG</td>\n      <td>WIRE ROPE CABLE MAINTENANCE MECHANIC</td>\n      <td>77916.00</td>\n      <td>56120.71</td>\n      <td>198306.90</td>\n      <td>NaN</td>\n      <td>332343.61</td>\n      <td>332343.61</td>\n      <td>2011</td>\n      <td>NaN</td>\n      <td>San Francisco</td>\n      <td>NaN</td>\n    </tr>\n    <tr>\n      <th>4</th>\n      <td>5</td>\n      <td>PATRICK GARDNER</td>\n      <td>DEPUTY CHIEF OF DEPARTMENT,(FIRE DEPARTMENT)</td>\n      <td>134401.60</td>\n      <td>9737.00</td>\n      <td>182234.59</td>\n      <td>NaN</td>\n      <td>326373.19</td>\n      <td>326373.19</td>\n      <td>2011</td>\n      <td>NaN</td>\n      <td>San Francisco</td>\n      <td>NaN</td>\n    </tr>\n    <tr>\n      <th>...</th>\n      <td>...</td>\n      <td>...</td>\n      <td>...</td>\n      <td>...</td>\n      <td>...</td>\n      <td>...</td>\n      <td>...</td>\n      <td>...</td>\n      <td>...</td>\n      <td>...</td>\n      <td>...</td>\n      <td>...</td>\n      <td>...</td>\n    </tr>\n    <tr>\n      <th>148649</th>\n      <td>148650</td>\n      <td>Roy I Tillery</td>\n      <td>Custodian</td>\n      <td>0.00</td>\n      <td>0.00</td>\n      <td>0.00</td>\n      <td>0.0</td>\n      <td>0.00</td>\n      <td>0.00</td>\n      <td>2014</td>\n      <td>NaN</td>\n      <td>San Francisco</td>\n      <td>NaN</td>\n    </tr>\n    <tr>\n      <th>148650</th>\n      <td>148651</td>\n      <td>Not provided</td>\n      <td>Not provided</td>\n      <td>NaN</td>\n      <td>NaN</td>\n      <td>NaN</td>\n      <td>NaN</td>\n      <td>0.00</td>\n      <td>0.00</td>\n      <td>2014</td>\n      <td>NaN</td>\n      <td>San Francisco</td>\n      <td>NaN</td>\n    </tr>\n    <tr>\n      <th>148651</th>\n      <td>148652</td>\n      <td>Not provided</td>\n      <td>Not provided</td>\n      <td>NaN</td>\n      <td>NaN</td>\n      <td>NaN</td>\n      <td>NaN</td>\n      <td>0.00</td>\n      <td>0.00</td>\n      <td>2014</td>\n      <td>NaN</td>\n      <td>San Francisco</td>\n      <td>NaN</td>\n    </tr>\n    <tr>\n      <th>148652</th>\n      <td>148653</td>\n      <td>Not provided</td>\n      <td>Not provided</td>\n      <td>NaN</td>\n      <td>NaN</td>\n      <td>NaN</td>\n      <td>NaN</td>\n      <td>0.00</td>\n      <td>0.00</td>\n      <td>2014</td>\n      <td>NaN</td>\n      <td>San Francisco</td>\n      <td>NaN</td>\n    </tr>\n    <tr>\n      <th>148653</th>\n      <td>148654</td>\n      <td>Joe Lopez</td>\n      <td>Counselor, Log Cabin Ranch</td>\n      <td>0.00</td>\n      <td>0.00</td>\n      <td>-618.13</td>\n      <td>0.0</td>\n      <td>-618.13</td>\n      <td>-618.13</td>\n      <td>2014</td>\n      <td>NaN</td>\n      <td>San Francisco</td>\n      <td>NaN</td>\n    </tr>\n  </tbody>\n</table>\n<p>148654 rows × 13 columns</p>\n</div>"
     },
     "metadata": {},
     "execution_count": 2
    }
   ],
   "source": [
    "salary_df =  pd.read_csv('/home/user/Datasets/Salaries.csv')\n",
    "salary_df"
   ]
  },
  {
   "cell_type": "code",
   "execution_count": 3,
   "metadata": {},
   "outputs": [
    {
     "output_type": "execute_result",
     "data": {
      "text/plain": [
       "(148654, 13)"
      ]
     },
     "metadata": {},
     "execution_count": 3
    }
   ],
   "source": [
    "salary_df.shape"
   ]
  },
  {
   "cell_type": "code",
   "execution_count": 4,
   "metadata": {},
   "outputs": [
    {
     "output_type": "execute_result",
     "data": {
      "text/plain": [
       "Index(['Id', 'EmployeeName', 'JobTitle', 'BasePay', 'OvertimePay', 'OtherPay',\n",
       "       'Benefits', 'TotalPay', 'TotalPayBenefits', 'Year', 'Notes', 'Agency',\n",
       "       'Status'],\n",
       "      dtype='object')"
      ]
     },
     "metadata": {},
     "execution_count": 4
    }
   ],
   "source": [
    "salary_df.columns"
   ]
  },
  {
   "cell_type": "code",
   "execution_count": 5,
   "metadata": {},
   "outputs": [
    {
     "output_type": "stream",
     "name": "stdout",
     "text": [
      "<class 'pandas.core.frame.DataFrame'>\nRangeIndex: 148654 entries, 0 to 148653\nData columns (total 13 columns):\n #   Column            Non-Null Count   Dtype  \n---  ------            --------------   -----  \n 0   Id                148654 non-null  int64  \n 1   EmployeeName      148654 non-null  object \n 2   JobTitle          148654 non-null  object \n 3   BasePay           148045 non-null  float64\n 4   OvertimePay       148650 non-null  float64\n 5   OtherPay          148650 non-null  float64\n 6   Benefits          112491 non-null  float64\n 7   TotalPay          148654 non-null  float64\n 8   TotalPayBenefits  148654 non-null  float64\n 9   Year              148654 non-null  int64  \n 10  Notes             0 non-null       float64\n 11  Agency            148654 non-null  object \n 12  Status            0 non-null       float64\ndtypes: float64(8), int64(2), object(3)\nmemory usage: 14.7+ MB\n"
     ]
    }
   ],
   "source": [
    "salary_df.info()"
   ]
  },
  {
   "cell_type": "code",
   "execution_count": 6,
   "metadata": {},
   "outputs": [
    {
     "output_type": "execute_result",
     "data": {
      "text/plain": [
       "66325.44884050643"
      ]
     },
     "metadata": {},
     "execution_count": 6
    }
   ],
   "source": [
    "# Average Base pay\n",
    "salary_df['BasePay'].mean()"
   ]
  },
  {
   "cell_type": "code",
   "execution_count": 7,
   "metadata": {},
   "outputs": [
    {
     "output_type": "execute_result",
     "data": {
      "text/plain": [
       "245131.88"
      ]
     },
     "metadata": {},
     "execution_count": 7
    }
   ],
   "source": [
    "# highest value of OvertimePay\n",
    "salary_df['OvertimePay'].max()"
   ]
  },
  {
   "cell_type": "code",
   "execution_count": 8,
   "metadata": {},
   "outputs": [
    {
     "output_type": "execute_result",
     "data": {
      "text/plain": [
       "       EmployeeName                   JobTitle\n",
       "24  JOSEPH DRISCOLL  CAPTAIN, FIRE SUPPRESSION"
      ],
      "text/html": "<div>\n<style scoped>\n    .dataframe tbody tr th:only-of-type {\n        vertical-align: middle;\n    }\n\n    .dataframe tbody tr th {\n        vertical-align: top;\n    }\n\n    .dataframe thead th {\n        text-align: right;\n    }\n</style>\n<table border=\"1\" class=\"dataframe\">\n  <thead>\n    <tr style=\"text-align: right;\">\n      <th></th>\n      <th>EmployeeName</th>\n      <th>JobTitle</th>\n    </tr>\n  </thead>\n  <tbody>\n    <tr>\n      <th>24</th>\n      <td>JOSEPH DRISCOLL</td>\n      <td>CAPTAIN, FIRE SUPPRESSION</td>\n    </tr>\n  </tbody>\n</table>\n</div>"
     },
     "metadata": {},
     "execution_count": 8
    }
   ],
   "source": [
    "# job title of JOSEPH DRISCOLL \n",
    "\n",
    "salary_df[salary_df['EmployeeName'] == 'JOSEPH DRISCOLL'][['EmployeeName', 'JobTitle']]"
   ]
  },
  {
   "cell_type": "code",
   "execution_count": 9,
   "metadata": {},
   "outputs": [
    {
     "output_type": "execute_result",
     "data": {
      "text/plain": [
       "       EmployeeName  Benefits   TotalPay  TotalPayBenefits\n",
       "24  JOSEPH DRISCOLL       NaN  270324.91         270324.91"
      ],
      "text/html": "<div>\n<style scoped>\n    .dataframe tbody tr th:only-of-type {\n        vertical-align: middle;\n    }\n\n    .dataframe tbody tr th {\n        vertical-align: top;\n    }\n\n    .dataframe thead th {\n        text-align: right;\n    }\n</style>\n<table border=\"1\" class=\"dataframe\">\n  <thead>\n    <tr style=\"text-align: right;\">\n      <th></th>\n      <th>EmployeeName</th>\n      <th>Benefits</th>\n      <th>TotalPay</th>\n      <th>TotalPayBenefits</th>\n    </tr>\n  </thead>\n  <tbody>\n    <tr>\n      <th>24</th>\n      <td>JOSEPH DRISCOLL</td>\n      <td>NaN</td>\n      <td>270324.91</td>\n      <td>270324.91</td>\n    </tr>\n  </tbody>\n</table>\n</div>"
     },
     "metadata": {},
     "execution_count": 9
    }
   ],
   "source": [
    "# how much does JOSEPH DRISCOLL make including benefits\n",
    "\n",
    "salary_df[salary_df['EmployeeName'] =='JOSEPH DRISCOLL'][['EmployeeName','Benefits', 'TotalPay', 'TotalPayBenefits']]"
   ]
  },
  {
   "cell_type": "code",
   "execution_count": 10,
   "metadata": {},
   "outputs": [
    {
     "output_type": "execute_result",
     "data": {
      "text/plain": [
       "     EmployeeName  TotalPayBenefits\n",
       "0  NATHANIEL FORD         567595.43"
      ],
      "text/html": "<div>\n<style scoped>\n    .dataframe tbody tr th:only-of-type {\n        vertical-align: middle;\n    }\n\n    .dataframe tbody tr th {\n        vertical-align: top;\n    }\n\n    .dataframe thead th {\n        text-align: right;\n    }\n</style>\n<table border=\"1\" class=\"dataframe\">\n  <thead>\n    <tr style=\"text-align: right;\">\n      <th></th>\n      <th>EmployeeName</th>\n      <th>TotalPayBenefits</th>\n    </tr>\n  </thead>\n  <tbody>\n    <tr>\n      <th>0</th>\n      <td>NATHANIEL FORD</td>\n      <td>567595.43</td>\n    </tr>\n  </tbody>\n</table>\n</div>"
     },
     "metadata": {},
     "execution_count": 10
    }
   ],
   "source": [
    "# Name of the highest paid person including benefits\n",
    "\n",
    "salary_df[salary_df['TotalPayBenefits'] == salary_df['TotalPayBenefits'].max()][['EmployeeName','TotalPayBenefits']]"
   ]
  },
  {
   "cell_type": "code",
   "execution_count": 11,
   "metadata": {},
   "outputs": [
    {
     "output_type": "execute_result",
     "data": {
      "text/plain": [
       "                EmployeeName  Benefits  TotalPay  TotalPayBenefits\n",
       "110533  William J Coaker Jr.  96570.66  339653.7         436224.36"
      ],
      "text/html": "<div>\n<style scoped>\n    .dataframe tbody tr th:only-of-type {\n        vertical-align: middle;\n    }\n\n    .dataframe tbody tr th {\n        vertical-align: top;\n    }\n\n    .dataframe thead th {\n        text-align: right;\n    }\n</style>\n<table border=\"1\" class=\"dataframe\">\n  <thead>\n    <tr style=\"text-align: right;\">\n      <th></th>\n      <th>EmployeeName</th>\n      <th>Benefits</th>\n      <th>TotalPay</th>\n      <th>TotalPayBenefits</th>\n    </tr>\n  </thead>\n  <tbody>\n    <tr>\n      <th>110533</th>\n      <td>William J Coaker Jr.</td>\n      <td>96570.66</td>\n      <td>339653.7</td>\n      <td>436224.36</td>\n    </tr>\n  </tbody>\n</table>\n</div>"
     },
     "metadata": {},
     "execution_count": 11
    }
   ],
   "source": [
    "# Name of the person with highest benefit and his salary including benefits\n",
    "\n",
    "salary_df[salary_df['Benefits'] == salary_df['Benefits'].max()][['EmployeeName','Benefits', 'TotalPay', 'TotalPayBenefits']]"
   ]
  },
  {
   "cell_type": "code",
   "execution_count": 12,
   "metadata": {},
   "outputs": [
    {
     "output_type": "execute_result",
     "data": {
      "text/plain": [
       "       EmployeeName  TotalPayBenefits\n",
       "148653    Joe Lopez           -618.13"
      ],
      "text/html": "<div>\n<style scoped>\n    .dataframe tbody tr th:only-of-type {\n        vertical-align: middle;\n    }\n\n    .dataframe tbody tr th {\n        vertical-align: top;\n    }\n\n    .dataframe thead th {\n        text-align: right;\n    }\n</style>\n<table border=\"1\" class=\"dataframe\">\n  <thead>\n    <tr style=\"text-align: right;\">\n      <th></th>\n      <th>EmployeeName</th>\n      <th>TotalPayBenefits</th>\n    </tr>\n  </thead>\n  <tbody>\n    <tr>\n      <th>148653</th>\n      <td>Joe Lopez</td>\n      <td>-618.13</td>\n    </tr>\n  </tbody>\n</table>\n</div>"
     },
     "metadata": {},
     "execution_count": 12
    }
   ],
   "source": [
    "# Name of lowest paid person (including benefits)\n",
    "salary_df[salary_df['TotalPayBenefits'] == salary_df['TotalPayBenefits'].min()][['EmployeeName','TotalPayBenefits']]"
   ]
  },
  {
   "cell_type": "code",
   "execution_count": 13,
   "metadata": {},
   "outputs": [
    {
     "output_type": "execute_result",
     "data": {
      "text/plain": [
       "           BasePay\n",
       "Year              \n",
       "2011  63595.956517\n",
       "2012  65436.406857\n",
       "2013  69630.030216\n",
       "2014  66564.421924"
      ],
      "text/html": "<div>\n<style scoped>\n    .dataframe tbody tr th:only-of-type {\n        vertical-align: middle;\n    }\n\n    .dataframe tbody tr th {\n        vertical-align: top;\n    }\n\n    .dataframe thead th {\n        text-align: right;\n    }\n</style>\n<table border=\"1\" class=\"dataframe\">\n  <thead>\n    <tr style=\"text-align: right;\">\n      <th></th>\n      <th>BasePay</th>\n    </tr>\n    <tr>\n      <th>Year</th>\n      <th></th>\n    </tr>\n  </thead>\n  <tbody>\n    <tr>\n      <th>2011</th>\n      <td>63595.956517</td>\n    </tr>\n    <tr>\n      <th>2012</th>\n      <td>65436.406857</td>\n    </tr>\n    <tr>\n      <th>2013</th>\n      <td>69630.030216</td>\n    </tr>\n    <tr>\n      <th>2014</th>\n      <td>66564.421924</td>\n    </tr>\n  </tbody>\n</table>\n</div>"
     },
     "metadata": {},
     "execution_count": 13
    }
   ],
   "source": [
    "# The average (mean) BasePay of all employees per year\n",
    "salary_df.groupby('Year')[['BasePay']].mean()"
   ]
  },
  {
   "cell_type": "code",
   "execution_count": 14,
   "metadata": {},
   "outputs": [
    {
     "output_type": "execute_result",
     "data": {
      "text/plain": [
       "2159"
      ]
     },
     "metadata": {},
     "execution_count": 14
    }
   ],
   "source": [
    "# NUmber of unique job titles\n",
    "salary_df['JobTitle'].nunique()"
   ]
  },
  {
   "cell_type": "code",
   "execution_count": 15,
   "metadata": {},
   "outputs": [
    {
     "output_type": "execute_result",
     "data": {
      "text/plain": [
       "Transit Operator                7036\n",
       "Special Nurse                   4389\n",
       "Registered Nurse                3736\n",
       "Public Svc Aide-Public Works    2518\n",
       "Police Officer 3                2421\n",
       "Name: JobTitle, dtype: int64"
      ]
     },
     "metadata": {},
     "execution_count": 15
    }
   ],
   "source": [
    "# Top 5 most common jobs\n",
    "salary_df['JobTitle'].value_counts().head()"
   ]
  },
  {
   "cell_type": "code",
   "execution_count": 16,
   "metadata": {},
   "outputs": [
    {
     "output_type": "execute_result",
     "data": {
      "text/plain": [
       "                EmployeeName                                        JobTitle  \\\n",
       "0             NATHANIEL FORD  GENERAL MANAGER-METROPOLITAN TRANSIT AUTHORITY   \n",
       "1               GARY JIMENEZ                 CAPTAIN III (POLICE DEPARTMENT)   \n",
       "110531           David Shinn                                  Deputy Chief 3   \n",
       "110532            Amy P Hart                               Asst Med Examiner   \n",
       "110533  William J Coaker Jr.                        Chief Investment Officer   \n",
       "\n",
       "        TotalPayBenefits  \n",
       "0              567595.43  \n",
       "1              538909.28  \n",
       "110531         510732.68  \n",
       "110532         479652.21  \n",
       "110533         436224.36  "
      ],
      "text/html": "<div>\n<style scoped>\n    .dataframe tbody tr th:only-of-type {\n        vertical-align: middle;\n    }\n\n    .dataframe tbody tr th {\n        vertical-align: top;\n    }\n\n    .dataframe thead th {\n        text-align: right;\n    }\n</style>\n<table border=\"1\" class=\"dataframe\">\n  <thead>\n    <tr style=\"text-align: right;\">\n      <th></th>\n      <th>EmployeeName</th>\n      <th>JobTitle</th>\n      <th>TotalPayBenefits</th>\n    </tr>\n  </thead>\n  <tbody>\n    <tr>\n      <th>0</th>\n      <td>NATHANIEL FORD</td>\n      <td>GENERAL MANAGER-METROPOLITAN TRANSIT AUTHORITY</td>\n      <td>567595.43</td>\n    </tr>\n    <tr>\n      <th>1</th>\n      <td>GARY JIMENEZ</td>\n      <td>CAPTAIN III (POLICE DEPARTMENT)</td>\n      <td>538909.28</td>\n    </tr>\n    <tr>\n      <th>110531</th>\n      <td>David Shinn</td>\n      <td>Deputy Chief 3</td>\n      <td>510732.68</td>\n    </tr>\n    <tr>\n      <th>110532</th>\n      <td>Amy P Hart</td>\n      <td>Asst Med Examiner</td>\n      <td>479652.21</td>\n    </tr>\n    <tr>\n      <th>110533</th>\n      <td>William J Coaker Jr.</td>\n      <td>Chief Investment Officer</td>\n      <td>436224.36</td>\n    </tr>\n  </tbody>\n</table>\n</div>"
     },
     "metadata": {},
     "execution_count": 16
    }
   ],
   "source": [
    "# top 5 most paid \n",
    "salary_df.nlargest(5,'TotalPayBenefits')[['EmployeeName', 'JobTitle','TotalPayBenefits']]"
   ]
  },
  {
   "cell_type": "code",
   "execution_count": 17,
   "metadata": {},
   "outputs": [
    {
     "output_type": "execute_result",
     "data": {
      "text/plain": [
       "202"
      ]
     },
     "metadata": {},
     "execution_count": 17
    }
   ],
   "source": [
    "# Number of Job Titles occupied by only one person in 2013\n",
    "sum(salary_df[salary_df['Year']==2013]['JobTitle'].value_counts() ==1)\n"
   ]
  },
  {
   "cell_type": "code",
   "execution_count": 25,
   "metadata": {},
   "outputs": [
    {
     "output_type": "execute_result",
     "data": {
      "text/plain": [
       "            Id         EmployeeName                        JobTitle  \\\n",
       "36160    36161         Gregory Suhr                 Chief of Police   \n",
       "36162    36163   Joanne Hayes-White          Chief, Fire Department   \n",
       "36345    36346      Burk Delventhal  Chief Atty1 (Civil & Criminal)   \n",
       "36419    36420        Joanne Hoeper  Chief Atty1 (Civil & Criminal)   \n",
       "36420    36421          Wendy Still   Chief Adult Probation Officer   \n",
       "...        ...                  ...                             ...   \n",
       "138011  138012     Sharon C Jackson  Chief Deputy Adlt Probation Of   \n",
       "139620  139621          Anita S Lee                     Chief Clerk   \n",
       "139709  139710     George D Vaughan        Chief Nursery Specialist   \n",
       "140080  140081  Patrick W Gillespie                Chief Preparator   \n",
       "140156  140157  Christopher L Ochoa       Chief Stationary Engineer   \n",
       "\n",
       "          BasePay  OvertimePay  OtherPay  Benefits   TotalPay  \\\n",
       "36160   302578.00         0.00  18974.11  69810.19  321552.11   \n",
       "36162   296943.01         0.00  17816.59  72047.88  314759.60   \n",
       "36345   206752.00         0.00    312.50  64406.22  207064.50   \n",
       "36419   201384.40         0.00    312.50  60796.93  201696.90   \n",
       "36420   192454.46         0.00   5185.04  64849.52  197639.50   \n",
       "...           ...          ...       ...       ...        ...   \n",
       "138011   56660.18         0.00      0.00    566.61   56660.18   \n",
       "139620   38598.86         0.00      0.00    386.00   38598.86   \n",
       "139709   27319.47       483.90      0.00  10334.67   27803.37   \n",
       "140080   24091.00         0.00      0.00  10176.77   24091.00   \n",
       "140156   24392.00       418.71      0.00   8918.44   24810.71   \n",
       "\n",
       "        TotalPayBenefits  Year  Notes         Agency  Status  \n",
       "36160          391362.30  2012    NaN  San Francisco     NaN  \n",
       "36162          386807.48  2012    NaN  San Francisco     NaN  \n",
       "36345          271470.72  2012    NaN  San Francisco     NaN  \n",
       "36419          262493.83  2012    NaN  San Francisco     NaN  \n",
       "36420          262489.02  2012    NaN  San Francisco     NaN  \n",
       "...                  ...   ...    ...            ...     ...  \n",
       "138011          57226.79  2014    NaN  San Francisco     NaN  \n",
       "139620          38984.86  2014    NaN  San Francisco     NaN  \n",
       "139709          38138.04  2014    NaN  San Francisco     NaN  \n",
       "140080          34267.77  2014    NaN  San Francisco     NaN  \n",
       "140156          33729.15  2014    NaN  San Francisco     NaN  \n",
       "\n",
       "[198 rows x 13 columns]"
      ],
      "text/html": "<div>\n<style scoped>\n    .dataframe tbody tr th:only-of-type {\n        vertical-align: middle;\n    }\n\n    .dataframe tbody tr th {\n        vertical-align: top;\n    }\n\n    .dataframe thead th {\n        text-align: right;\n    }\n</style>\n<table border=\"1\" class=\"dataframe\">\n  <thead>\n    <tr style=\"text-align: right;\">\n      <th></th>\n      <th>Id</th>\n      <th>EmployeeName</th>\n      <th>JobTitle</th>\n      <th>BasePay</th>\n      <th>OvertimePay</th>\n      <th>OtherPay</th>\n      <th>Benefits</th>\n      <th>TotalPay</th>\n      <th>TotalPayBenefits</th>\n      <th>Year</th>\n      <th>Notes</th>\n      <th>Agency</th>\n      <th>Status</th>\n    </tr>\n  </thead>\n  <tbody>\n    <tr>\n      <th>36160</th>\n      <td>36161</td>\n      <td>Gregory Suhr</td>\n      <td>Chief of Police</td>\n      <td>302578.00</td>\n      <td>0.00</td>\n      <td>18974.11</td>\n      <td>69810.19</td>\n      <td>321552.11</td>\n      <td>391362.30</td>\n      <td>2012</td>\n      <td>NaN</td>\n      <td>San Francisco</td>\n      <td>NaN</td>\n    </tr>\n    <tr>\n      <th>36162</th>\n      <td>36163</td>\n      <td>Joanne Hayes-White</td>\n      <td>Chief, Fire Department</td>\n      <td>296943.01</td>\n      <td>0.00</td>\n      <td>17816.59</td>\n      <td>72047.88</td>\n      <td>314759.60</td>\n      <td>386807.48</td>\n      <td>2012</td>\n      <td>NaN</td>\n      <td>San Francisco</td>\n      <td>NaN</td>\n    </tr>\n    <tr>\n      <th>36345</th>\n      <td>36346</td>\n      <td>Burk Delventhal</td>\n      <td>Chief Atty1 (Civil &amp; Criminal)</td>\n      <td>206752.00</td>\n      <td>0.00</td>\n      <td>312.50</td>\n      <td>64406.22</td>\n      <td>207064.50</td>\n      <td>271470.72</td>\n      <td>2012</td>\n      <td>NaN</td>\n      <td>San Francisco</td>\n      <td>NaN</td>\n    </tr>\n    <tr>\n      <th>36419</th>\n      <td>36420</td>\n      <td>Joanne Hoeper</td>\n      <td>Chief Atty1 (Civil &amp; Criminal)</td>\n      <td>201384.40</td>\n      <td>0.00</td>\n      <td>312.50</td>\n      <td>60796.93</td>\n      <td>201696.90</td>\n      <td>262493.83</td>\n      <td>2012</td>\n      <td>NaN</td>\n      <td>San Francisco</td>\n      <td>NaN</td>\n    </tr>\n    <tr>\n      <th>36420</th>\n      <td>36421</td>\n      <td>Wendy Still</td>\n      <td>Chief Adult Probation Officer</td>\n      <td>192454.46</td>\n      <td>0.00</td>\n      <td>5185.04</td>\n      <td>64849.52</td>\n      <td>197639.50</td>\n      <td>262489.02</td>\n      <td>2012</td>\n      <td>NaN</td>\n      <td>San Francisco</td>\n      <td>NaN</td>\n    </tr>\n    <tr>\n      <th>...</th>\n      <td>...</td>\n      <td>...</td>\n      <td>...</td>\n      <td>...</td>\n      <td>...</td>\n      <td>...</td>\n      <td>...</td>\n      <td>...</td>\n      <td>...</td>\n      <td>...</td>\n      <td>...</td>\n      <td>...</td>\n      <td>...</td>\n    </tr>\n    <tr>\n      <th>138011</th>\n      <td>138012</td>\n      <td>Sharon C Jackson</td>\n      <td>Chief Deputy Adlt Probation Of</td>\n      <td>56660.18</td>\n      <td>0.00</td>\n      <td>0.00</td>\n      <td>566.61</td>\n      <td>56660.18</td>\n      <td>57226.79</td>\n      <td>2014</td>\n      <td>NaN</td>\n      <td>San Francisco</td>\n      <td>NaN</td>\n    </tr>\n    <tr>\n      <th>139620</th>\n      <td>139621</td>\n      <td>Anita S Lee</td>\n      <td>Chief Clerk</td>\n      <td>38598.86</td>\n      <td>0.00</td>\n      <td>0.00</td>\n      <td>386.00</td>\n      <td>38598.86</td>\n      <td>38984.86</td>\n      <td>2014</td>\n      <td>NaN</td>\n      <td>San Francisco</td>\n      <td>NaN</td>\n    </tr>\n    <tr>\n      <th>139709</th>\n      <td>139710</td>\n      <td>George D Vaughan</td>\n      <td>Chief Nursery Specialist</td>\n      <td>27319.47</td>\n      <td>483.90</td>\n      <td>0.00</td>\n      <td>10334.67</td>\n      <td>27803.37</td>\n      <td>38138.04</td>\n      <td>2014</td>\n      <td>NaN</td>\n      <td>San Francisco</td>\n      <td>NaN</td>\n    </tr>\n    <tr>\n      <th>140080</th>\n      <td>140081</td>\n      <td>Patrick W Gillespie</td>\n      <td>Chief Preparator</td>\n      <td>24091.00</td>\n      <td>0.00</td>\n      <td>0.00</td>\n      <td>10176.77</td>\n      <td>24091.00</td>\n      <td>34267.77</td>\n      <td>2014</td>\n      <td>NaN</td>\n      <td>San Francisco</td>\n      <td>NaN</td>\n    </tr>\n    <tr>\n      <th>140156</th>\n      <td>140157</td>\n      <td>Christopher L Ochoa</td>\n      <td>Chief Stationary Engineer</td>\n      <td>24392.00</td>\n      <td>418.71</td>\n      <td>0.00</td>\n      <td>8918.44</td>\n      <td>24810.71</td>\n      <td>33729.15</td>\n      <td>2014</td>\n      <td>NaN</td>\n      <td>San Francisco</td>\n      <td>NaN</td>\n    </tr>\n  </tbody>\n</table>\n<p>198 rows × 13 columns</p>\n</div>"
     },
     "metadata": {},
     "execution_count": 25
    }
   ],
   "source": [
    "# Number of people have the word Chief in their job title\n",
    "salary_df[salary_df['JobTitle'].str.match('Chief')]"
   ]
  },
  {
   "cell_type": "code",
   "execution_count": 19,
   "metadata": {},
   "outputs": [],
   "source": [
    "# Is there a correlation between length of the Job Title string and Salary"
   ]
  }
 ]
}