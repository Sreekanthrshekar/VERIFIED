{
  "nbformat": 4,
  "nbformat_minor": 0,
  "metadata": {
    "colab": {
      "name": "Wine_quality_prediction.ipynb",
      "provenance": [],
      "collapsed_sections": [
        "BxfDs0LZ-WFE",
        "Wdt2UAdfBdDo",
        "nZn8Kh7mDbph",
        "ORUQccHkDmyh",
        "5T5gpdTCD4PS"
      ]
    },
    "kernelspec": {
      "name": "python3",
      "display_name": "Python 3"
    }
  },
  "cells": [
    {
      "cell_type": "code",
      "metadata": {
        "id": "SV-Mdw4pmiTG"
      },
      "source": [
        "import pandas as pd\n",
        "import numpy as np\n",
        "import matplotlib.pyplot as plt\n",
        "import seaborn as sns\n",
        "from sklearn.svm import SVC\n",
        "from sklearn.linear_model import SGDClassifier,  LogisticRegression\n",
        "from sklearn.metrics import confusion_matrix, classification_report, accuracy_score, precision_score, recall_score, f1_score, roc_auc_score\n",
        "from sklearn.preprocessing import StandardScaler, LabelEncoder\n",
        "from sklearn.model_selection import train_test_split, GridSearchCV, cross_val_score, RandomizedSearchCV\n",
        "%matplotlib inline"
      ],
      "execution_count": 125,
      "outputs": []
    },
    {
      "cell_type": "code",
      "metadata": {
        "colab": {
          "base_uri": "https://localhost:8080/",
          "height": 441
        },
        "id": "jkfRZQdJm3oO",
        "outputId": "9cfcaaca-3439-4525-f25d-03adf554d6b3"
      },
      "source": [
        "#loading dataset and checking it out\n",
        "\n",
        "wine_df = pd.read_csv(\"http://bit.ly/wine_quality_red\")\n",
        "wine_df"
      ],
      "execution_count": 126,
      "outputs": [
        {
          "output_type": "execute_result",
          "data": {
            "text/html": [
              "<div>\n",
              "<style scoped>\n",
              "    .dataframe tbody tr th:only-of-type {\n",
              "        vertical-align: middle;\n",
              "    }\n",
              "\n",
              "    .dataframe tbody tr th {\n",
              "        vertical-align: top;\n",
              "    }\n",
              "\n",
              "    .dataframe thead th {\n",
              "        text-align: right;\n",
              "    }\n",
              "</style>\n",
              "<table border=\"1\" class=\"dataframe\">\n",
              "  <thead>\n",
              "    <tr style=\"text-align: right;\">\n",
              "      <th></th>\n",
              "      <th>fixed acidity</th>\n",
              "      <th>volatile acidity</th>\n",
              "      <th>citric acid</th>\n",
              "      <th>residual sugar</th>\n",
              "      <th>chlorides</th>\n",
              "      <th>free sulfur dioxide</th>\n",
              "      <th>total sulfur dioxide</th>\n",
              "      <th>density</th>\n",
              "      <th>pH</th>\n",
              "      <th>sulphates</th>\n",
              "      <th>alcohol</th>\n",
              "      <th>quality</th>\n",
              "    </tr>\n",
              "  </thead>\n",
              "  <tbody>\n",
              "    <tr>\n",
              "      <th>0</th>\n",
              "      <td>7.4</td>\n",
              "      <td>0.700</td>\n",
              "      <td>0.00</td>\n",
              "      <td>1.9</td>\n",
              "      <td>0.076</td>\n",
              "      <td>11.0</td>\n",
              "      <td>34.0</td>\n",
              "      <td>0.99780</td>\n",
              "      <td>3.51</td>\n",
              "      <td>0.56</td>\n",
              "      <td>9.4</td>\n",
              "      <td>5</td>\n",
              "    </tr>\n",
              "    <tr>\n",
              "      <th>1</th>\n",
              "      <td>7.8</td>\n",
              "      <td>0.880</td>\n",
              "      <td>0.00</td>\n",
              "      <td>2.6</td>\n",
              "      <td>0.098</td>\n",
              "      <td>25.0</td>\n",
              "      <td>67.0</td>\n",
              "      <td>0.99680</td>\n",
              "      <td>3.20</td>\n",
              "      <td>0.68</td>\n",
              "      <td>9.8</td>\n",
              "      <td>5</td>\n",
              "    </tr>\n",
              "    <tr>\n",
              "      <th>2</th>\n",
              "      <td>7.8</td>\n",
              "      <td>0.760</td>\n",
              "      <td>0.04</td>\n",
              "      <td>2.3</td>\n",
              "      <td>0.092</td>\n",
              "      <td>15.0</td>\n",
              "      <td>54.0</td>\n",
              "      <td>0.99700</td>\n",
              "      <td>3.26</td>\n",
              "      <td>0.65</td>\n",
              "      <td>9.8</td>\n",
              "      <td>5</td>\n",
              "    </tr>\n",
              "    <tr>\n",
              "      <th>3</th>\n",
              "      <td>11.2</td>\n",
              "      <td>0.280</td>\n",
              "      <td>0.56</td>\n",
              "      <td>1.9</td>\n",
              "      <td>0.075</td>\n",
              "      <td>17.0</td>\n",
              "      <td>60.0</td>\n",
              "      <td>0.99800</td>\n",
              "      <td>3.16</td>\n",
              "      <td>0.58</td>\n",
              "      <td>9.8</td>\n",
              "      <td>6</td>\n",
              "    </tr>\n",
              "    <tr>\n",
              "      <th>4</th>\n",
              "      <td>7.4</td>\n",
              "      <td>0.700</td>\n",
              "      <td>0.00</td>\n",
              "      <td>1.9</td>\n",
              "      <td>0.076</td>\n",
              "      <td>11.0</td>\n",
              "      <td>34.0</td>\n",
              "      <td>0.99780</td>\n",
              "      <td>3.51</td>\n",
              "      <td>0.56</td>\n",
              "      <td>9.4</td>\n",
              "      <td>5</td>\n",
              "    </tr>\n",
              "    <tr>\n",
              "      <th>...</th>\n",
              "      <td>...</td>\n",
              "      <td>...</td>\n",
              "      <td>...</td>\n",
              "      <td>...</td>\n",
              "      <td>...</td>\n",
              "      <td>...</td>\n",
              "      <td>...</td>\n",
              "      <td>...</td>\n",
              "      <td>...</td>\n",
              "      <td>...</td>\n",
              "      <td>...</td>\n",
              "      <td>...</td>\n",
              "    </tr>\n",
              "    <tr>\n",
              "      <th>1594</th>\n",
              "      <td>6.2</td>\n",
              "      <td>0.600</td>\n",
              "      <td>0.08</td>\n",
              "      <td>2.0</td>\n",
              "      <td>0.090</td>\n",
              "      <td>32.0</td>\n",
              "      <td>44.0</td>\n",
              "      <td>0.99490</td>\n",
              "      <td>3.45</td>\n",
              "      <td>0.58</td>\n",
              "      <td>10.5</td>\n",
              "      <td>5</td>\n",
              "    </tr>\n",
              "    <tr>\n",
              "      <th>1595</th>\n",
              "      <td>5.9</td>\n",
              "      <td>0.550</td>\n",
              "      <td>0.10</td>\n",
              "      <td>2.2</td>\n",
              "      <td>0.062</td>\n",
              "      <td>39.0</td>\n",
              "      <td>51.0</td>\n",
              "      <td>0.99512</td>\n",
              "      <td>3.52</td>\n",
              "      <td>0.76</td>\n",
              "      <td>11.2</td>\n",
              "      <td>6</td>\n",
              "    </tr>\n",
              "    <tr>\n",
              "      <th>1596</th>\n",
              "      <td>6.3</td>\n",
              "      <td>0.510</td>\n",
              "      <td>0.13</td>\n",
              "      <td>2.3</td>\n",
              "      <td>0.076</td>\n",
              "      <td>29.0</td>\n",
              "      <td>40.0</td>\n",
              "      <td>0.99574</td>\n",
              "      <td>3.42</td>\n",
              "      <td>0.75</td>\n",
              "      <td>11.0</td>\n",
              "      <td>6</td>\n",
              "    </tr>\n",
              "    <tr>\n",
              "      <th>1597</th>\n",
              "      <td>5.9</td>\n",
              "      <td>0.645</td>\n",
              "      <td>0.12</td>\n",
              "      <td>2.0</td>\n",
              "      <td>0.075</td>\n",
              "      <td>32.0</td>\n",
              "      <td>44.0</td>\n",
              "      <td>0.99547</td>\n",
              "      <td>3.57</td>\n",
              "      <td>0.71</td>\n",
              "      <td>10.2</td>\n",
              "      <td>5</td>\n",
              "    </tr>\n",
              "    <tr>\n",
              "      <th>1598</th>\n",
              "      <td>6.0</td>\n",
              "      <td>0.310</td>\n",
              "      <td>0.47</td>\n",
              "      <td>3.6</td>\n",
              "      <td>0.067</td>\n",
              "      <td>18.0</td>\n",
              "      <td>42.0</td>\n",
              "      <td>0.99549</td>\n",
              "      <td>3.39</td>\n",
              "      <td>0.66</td>\n",
              "      <td>11.0</td>\n",
              "      <td>6</td>\n",
              "    </tr>\n",
              "  </tbody>\n",
              "</table>\n",
              "<p>1599 rows × 12 columns</p>\n",
              "</div>"
            ],
            "text/plain": [
              "      fixed acidity  volatile acidity  citric acid  ...  sulphates  alcohol  quality\n",
              "0               7.4             0.700         0.00  ...       0.56      9.4        5\n",
              "1               7.8             0.880         0.00  ...       0.68      9.8        5\n",
              "2               7.8             0.760         0.04  ...       0.65      9.8        5\n",
              "3              11.2             0.280         0.56  ...       0.58      9.8        6\n",
              "4               7.4             0.700         0.00  ...       0.56      9.4        5\n",
              "...             ...               ...          ...  ...        ...      ...      ...\n",
              "1594            6.2             0.600         0.08  ...       0.58     10.5        5\n",
              "1595            5.9             0.550         0.10  ...       0.76     11.2        6\n",
              "1596            6.3             0.510         0.13  ...       0.75     11.0        6\n",
              "1597            5.9             0.645         0.12  ...       0.71     10.2        5\n",
              "1598            6.0             0.310         0.47  ...       0.66     11.0        6\n",
              "\n",
              "[1599 rows x 12 columns]"
            ]
          },
          "metadata": {
            "tags": []
          },
          "execution_count": 126
        }
      ]
    },
    {
      "cell_type": "code",
      "metadata": {
        "colab": {
          "base_uri": "https://localhost:8080/"
        },
        "id": "-kyR1VbH9NOJ",
        "outputId": "3c9ac5f3-acf3-437b-97a6-d21153018d8e"
      },
      "source": [
        "#information about dataset\n",
        "wine_df.info()"
      ],
      "execution_count": 127,
      "outputs": [
        {
          "output_type": "stream",
          "text": [
            "<class 'pandas.core.frame.DataFrame'>\n",
            "RangeIndex: 1599 entries, 0 to 1598\n",
            "Data columns (total 12 columns):\n",
            " #   Column                Non-Null Count  Dtype  \n",
            "---  ------                --------------  -----  \n",
            " 0   fixed acidity         1599 non-null   float64\n",
            " 1   volatile acidity      1599 non-null   float64\n",
            " 2   citric acid           1599 non-null   float64\n",
            " 3   residual sugar        1599 non-null   float64\n",
            " 4   chlorides             1599 non-null   float64\n",
            " 5   free sulfur dioxide   1599 non-null   float64\n",
            " 6   total sulfur dioxide  1599 non-null   float64\n",
            " 7   density               1599 non-null   float64\n",
            " 8   pH                    1599 non-null   float64\n",
            " 9   sulphates             1599 non-null   float64\n",
            " 10  alcohol               1599 non-null   float64\n",
            " 11  quality               1599 non-null   int64  \n",
            "dtypes: float64(11), int64(1)\n",
            "memory usage: 150.0 KB\n"
          ],
          "name": "stdout"
        }
      ]
    },
    {
      "cell_type": "markdown",
      "metadata": {
        "id": "0KZzDJJ39lhz"
      },
      "source": [
        "## **Distribution of Variables with respect to  quality (output)**"
      ]
    },
    {
      "cell_type": "code",
      "metadata": {
        "colab": {
          "base_uri": "https://localhost:8080/",
          "height": 497
        },
        "id": "6JKJrlSMnG8y",
        "outputId": "0db26761-05fb-4674-cb88-8dc34364bb6c"
      },
      "source": [
        "fig=plt.figure(figsize =(17,8))\n",
        "sns.barplot(x='quality', y='fixed acidity', data=wine_df );"
      ],
      "execution_count": 128,
      "outputs": [
        {
          "output_type": "display_data",
          "data": {
            "image/png": "[encoded data removed]",
            "text/plain": [
              "<Figure size 1224x576 with 1 Axes>"
            ]
          },
          "metadata": {
            "tags": [],
            "needs_background": "light"
          }
        }
      ]
    },
    {
      "cell_type": "markdown",
      "metadata": {
        "id": "L4fylu2Pny0t"
      },
      "source": [
        "### **Here it is clear that for any value of quality, the fixed acidity remains more or less the same. This would mean that fixed acidity is more or less constant over the quality variation, or in other words, it is independent of quality. Hence even if we remove the variable, it isn't going to affect the quality.**"
      ]
    },
    {
      "cell_type": "code",
      "metadata": {
        "colab": {
          "base_uri": "https://localhost:8080/",
          "height": 497
        },
        "id": "YZTIqqY3pgqV",
        "outputId": "e33913a6-e2a9-45fb-d026-8de1e6947aec"
      },
      "source": [
        "fig=plt.figure(figsize =(17,8))\n",
        "sns.barplot(x='quality', y='volatile acidity', data=wine_df );"
      ],
      "execution_count": 129,
      "outputs": [
        {
          "output_type": "display_data",
          "data": {
            "image/png": "[encoded data removed]",
            "text/plain": [
              "<Figure size 1224x576 with 1 Axes>"
            ]
          },
          "metadata": {
            "tags": [],
            "needs_background": "light"
          }
        }
      ]
    },
    {
      "cell_type": "markdown",
      "metadata": {
        "id": "1bj4wfI5py1-"
      },
      "source": [
        "### **Here it is clear that as value of volatile acidity decreases, the quality increases**"
      ]
    },
    {
      "cell_type": "code",
      "metadata": {
        "colab": {
          "base_uri": "https://localhost:8080/",
          "height": 497
        },
        "id": "Ct2apjNFpz7Q",
        "outputId": "5bb6751f-3e44-4564-9087-35ca3d49a62b"
      },
      "source": [
        "fig=plt.figure(figsize =(17,8))\n",
        "sns.barplot(x='quality', y='citric acid', data=wine_df );"
      ],
      "execution_count": 130,
      "outputs": [
        {
          "output_type": "display_data",
          "data": {
            "image/png": "[encoded data removed]",
            "text/plain": [
              "<Figure size 1224x576 with 1 Axes>"
            ]
          },
          "metadata": {
            "tags": [],
            "needs_background": "light"
          }
        }
      ]
    },
    {
      "cell_type": "markdown",
      "metadata": {
        "id": "z5L--NWOqQDi"
      },
      "source": [
        "### **Here it is clear that as value of citric acid increases, the quality increases**"
      ]
    },
    {
      "cell_type": "code",
      "metadata": {
        "colab": {
          "base_uri": "https://localhost:8080/",
          "height": 497
        },
        "id": "80MwsHjPqbN4",
        "outputId": "1146bf95-ed7a-4d44-8ed4-ca42d214056b"
      },
      "source": [
        "fig=plt.figure(figsize =(17,8))\n",
        "sns.barplot(x='quality', y='residual sugar', data=wine_df );"
      ],
      "execution_count": 131,
      "outputs": [
        {
          "output_type": "display_data",
          "data": {
            "image/png": "[encoded data removed]",
            "text/plain": [
              "<Figure size 1224x576 with 1 Axes>"
            ]
          },
          "metadata": {
            "tags": [],
            "needs_background": "light"
          }
        }
      ]
    },
    {
      "cell_type": "markdown",
      "metadata": {
        "id": "pcgweGkbqplC"
      },
      "source": [
        "### **Here it is clear that for any value of quality, the residual sugar remains more or less the same. This would mean that residual sugar is more or less constant over the quality variation, or in other words, it is independent of quality. Hence even if we remove the variable, residual sugar, it isn't going to affect the quality.**"
      ]
    },
    {
      "cell_type": "code",
      "metadata": {
        "colab": {
          "base_uri": "https://localhost:8080/",
          "height": 497
        },
        "id": "UFonIU5srB93",
        "outputId": "0495f0ce-ea4e-460c-ac03-db930e742ba7"
      },
      "source": [
        "fig=plt.figure(figsize =(17,8))\n",
        "sns.barplot(x='quality', y='chlorides', data=wine_df );"
      ],
      "execution_count": 132,
      "outputs": [
        {
          "output_type": "display_data",
          "data": {
            "image/png": "[encoded data removed]",
            "text/plain": [
              "<Figure size 1224x576 with 1 Axes>"
            ]
          },
          "metadata": {
            "tags": [],
            "needs_background": "light"
          }
        }
      ]
    },
    {
      "cell_type": "markdown",
      "metadata": {
        "id": "K9NHpy_j-H3t"
      },
      "source": [
        "### **Here it is clear that as value of chlorides decreases, the quality increases**"
      ]
    },
    {
      "cell_type": "code",
      "metadata": {
        "colab": {
          "base_uri": "https://localhost:8080/",
          "height": 497
        },
        "id": "PW-iJy1SrDCx",
        "outputId": "a1c13b08-0efa-491d-8c77-35e248c34fa7"
      },
      "source": [
        "fig=plt.figure(figsize =(17,8))\n",
        "sns.barplot(x='quality', y='free sulfur dioxide', data=wine_df );"
      ],
      "execution_count": 133,
      "outputs": [
        {
          "output_type": "display_data",
          "data": {
            "image/png": "[encoded data removed]",
            "text/plain": [
              "<Figure size 1224x576 with 1 Axes>"
            ]
          },
          "metadata": {
            "tags": [],
            "needs_background": "light"
          }
        }
      ]
    },
    {
      "cell_type": "markdown",
      "metadata": {
        "id": "BxfDs0LZ-WFE"
      },
      "source": [
        "### **Here the relation of  free sulphur dioxide is not linear with quality. Initially free sulphur dioxide seems to have a positive relation upto around the value of 13. But beyond that the relation becomes inverse, and as the free suphur dioxide value increases the wine quality falls to 5.**"
      ]
    },
    {
      "cell_type": "code",
      "metadata": {
        "colab": {
          "base_uri": "https://localhost:8080/",
          "height": 0
        },
        "id": "__maJGibrD5f",
        "outputId": "a13c3dee-fe05-44c6-9909-fe60fc9cd404"
      },
      "source": [
        "fig=plt.figure(figsize =(17,8))\n",
        "sns.barplot(x='quality', y='total sulfur dioxide', data=wine_df );"
      ],
      "execution_count": 134,
      "outputs": [
        {
          "output_type": "display_data",
          "data": {
            "image/png": "[encoded data removed]",
            "text/plain": [
              "<Figure size 1224x576 with 1 Axes>"
            ]
          },
          "metadata": {
            "tags": [],
            "needs_background": "light"
          }
        }
      ]
    },
    {
      "cell_type": "markdown",
      "metadata": {
        "id": "Wdt2UAdfBdDo"
      },
      "source": [
        "### **Here the relation of total sulfur dioxide is not linear with quality. Initially total sulfur dioxide seems to have a positive relation upto around the value of 32 at which it has the best quality. But beyond that the relation becomes inverse, and as the total sulfur dioxide value increases, quality quickly falls to a low quality of four for around a value of 37. Beyond that the quality slighly improves to 6 around 40 and then falls again to a value of 5 as total sulfur dioxide value increases.**"
      ]
    },
    {
      "cell_type": "code",
      "metadata": {
        "colab": {
          "base_uri": "https://localhost:8080/",
          "height": 0
        },
        "id": "HjnJdBTFrEwd",
        "outputId": "be8c4ccf-e9f4-4084-fad4-df85b1b14f02"
      },
      "source": [
        "fig=plt.figure(figsize =(17,8))\n",
        "sns.barplot(x='quality', y='density', data=wine_df );"
      ],
      "execution_count": 135,
      "outputs": [
        {
          "output_type": "display_data",
          "data": {
            "image/png": "[encoded data removed]",
            "text/plain": [
              "<Figure size 1224x576 with 1 Axes>"
            ]
          },
          "metadata": {
            "tags": [],
            "needs_background": "light"
          }
        }
      ]
    },
    {
      "cell_type": "markdown",
      "metadata": {
        "id": "nZn8Kh7mDbph"
      },
      "source": [
        "### **Here it is clear that for any value of quality, the density remains the same. This would mean that density is more or less constant over the quality variation, or in other words, it is independent of quality. Hence even if we remove the variable, it isn't going to affect the quality.**"
      ]
    },
    {
      "cell_type": "code",
      "metadata": {
        "colab": {
          "base_uri": "https://localhost:8080/",
          "height": 0
        },
        "id": "QZA7YLtsrXz9",
        "outputId": "031e89f5-0b57-4929-f02c-c57a4ab8d7f6"
      },
      "source": [
        "fig=plt.figure(figsize =(17,8))\n",
        "sns.barplot(x='quality', y='pH', data=wine_df );"
      ],
      "execution_count": 136,
      "outputs": [
        {
          "output_type": "display_data",
          "data": {
            "image/png": "[encoded data removed]",
            "text/plain": [
              "<Figure size 1224x576 with 1 Axes>"
            ]
          },
          "metadata": {
            "tags": [],
            "needs_background": "light"
          }
        }
      ]
    },
    {
      "cell_type": "markdown",
      "metadata": {
        "id": "ORUQccHkDmyh"
      },
      "source": [
        "### **Here it is clear that for any value of quality, the pH remains the same. This would mean that pH is more or less constant over the quality variation, or in other words, it is independent of quality. Hence even if we remove the variable, it isn't going to affect the quality.**"
      ]
    },
    {
      "cell_type": "code",
      "metadata": {
        "colab": {
          "base_uri": "https://localhost:8080/",
          "height": 0
        },
        "id": "gzn_7WaqrZR4",
        "outputId": "526de479-ffd0-439a-c93a-5317ed4f05db"
      },
      "source": [
        "fig=plt.figure(figsize =(17,8))\n",
        "sns.barplot(x='quality', y='sulphates', data=wine_df );"
      ],
      "execution_count": 137,
      "outputs": [
        {
          "output_type": "display_data",
          "data": {
            "image/png": "[encoded data removed]",
            "text/plain": [
              "<Figure size 1224x576 with 1 Axes>"
            ]
          },
          "metadata": {
            "tags": [],
            "needs_background": "light"
          }
        }
      ]
    },
    {
      "cell_type": "markdown",
      "metadata": {
        "id": "5T5gpdTCD4PS"
      },
      "source": [
        "### **Here it is clear that as value of sulphates increases, the quality increases**"
      ]
    },
    {
      "cell_type": "code",
      "metadata": {
        "colab": {
          "base_uri": "https://localhost:8080/",
          "height": 0
        },
        "id": "RDEEZeYtrZvy",
        "outputId": "b779deb4-c875-497c-b592-40c1a82c2f28"
      },
      "source": [
        "fig=plt.figure(figsize =(17,8))\n",
        "sns.barplot(x='quality', y='alcohol', data=wine_df );"
      ],
      "execution_count": 138,
      "outputs": [
        {
          "output_type": "display_data",
          "data": {
            "image/png": "[encoded data removed]",
            "text/plain": [
              "<Figure size 1224x576 with 1 Axes>"
            ]
          },
          "metadata": {
            "tags": [],
            "needs_background": "light"
          }
        }
      ]
    },
    {
      "cell_type": "markdown",
      "metadata": {
        "id": "h5qpAZ7lEWG6"
      },
      "source": [
        "### **Here it is clear that as value of alchohol increases beyond a value of 10, the quality increases**"
      ]
    },
    {
      "cell_type": "code",
      "metadata": {
        "colab": {
          "base_uri": "https://localhost:8080/"
        },
        "id": "QPnygEX6wSLi",
        "outputId": "178da515-ab06-4510-c2ed-437b1cf81e00"
      },
      "source": [
        "corr_matrix = wine_df.corr()\n",
        "corr_matrix['quality'].sort_values(ascending =False)"
      ],
      "execution_count": 139,
      "outputs": [
        {
          "output_type": "execute_result",
          "data": {
            "text/plain": [
              "quality                 1.000000\n",
              "alcohol                 0.476166\n",
              "sulphates               0.251397\n",
              "citric acid             0.226373\n",
              "fixed acidity           0.124052\n",
              "residual sugar          0.013732\n",
              "free sulfur dioxide    -0.050656\n",
              "pH                     -0.057731\n",
              "chlorides              -0.128907\n",
              "density                -0.174919\n",
              "total sulfur dioxide   -0.185100\n",
              "volatile acidity       -0.390558\n",
              "Name: quality, dtype: float64"
            ]
          },
          "metadata": {
            "tags": []
          },
          "execution_count": 139
        }
      ]
    },
    {
      "cell_type": "code",
      "metadata": {
        "id": "g65nbrtIEDfj",
        "colab": {
          "base_uri": "https://localhost:8080/"
        },
        "outputId": "5dd9a41e-16d8-40ce-83a6-13895b8d7f2c"
      },
      "source": [
        "#making binary classification for the output\n",
        "#dividing wine as good or bad by setting a quality limit of 6.5. For all values above 6.5 the wine is termed good and for all values below it, it is termed bad.\n",
        "\n",
        "bins =(2,6.5,8) \n",
        "#here, the first number 2 stands for how many bins we want (bad, good).\n",
        "#Then we first give the bin edge for bad, meaning upto what point should we call wine bad. Since we decided it is 6.5, we give that value.\n",
        "#Then we give the bin edge for good, which is 8. Although it may seem it is not required, it is becuase we have to define the bin edge for every bin we want.\n",
        "\n",
        "group_names =['bad','good']\n",
        "#Since as the value increases, the quality changes from bad to good, we have to name groups also in the same order\n",
        "\n",
        "wine_df['quality'] = pd.cut(wine_df['quality'].astype(float), bins=bins, labels =group_names)\n",
        "wine_df['quality']"
      ],
      "execution_count": 140,
      "outputs": [
        {
          "output_type": "execute_result",
          "data": {
            "text/plain": [
              "0       bad\n",
              "1       bad\n",
              "2       bad\n",
              "3       bad\n",
              "4       bad\n",
              "       ... \n",
              "1594    bad\n",
              "1595    bad\n",
              "1596    bad\n",
              "1597    bad\n",
              "1598    bad\n",
              "Name: quality, Length: 1599, dtype: category\n",
              "Categories (2, object): ['bad' < 'good']"
            ]
          },
          "metadata": {
            "tags": []
          },
          "execution_count": 140
        }
      ]
    },
    {
      "cell_type": "code",
      "metadata": {
        "colab": {
          "base_uri": "https://localhost:8080/",
          "height": 331
        },
        "id": "UkXWpJNIp_fq",
        "outputId": "6941d0fc-4084-41ee-b326-d305b3115bc4"
      },
      "source": [
        "print(wine_df['quality'].value_counts())\n",
        "sns.countplot( x=wine_df['quality']);\n",
        "#sns countplot can be thought of as histogram across categorical data."
      ],
      "execution_count": 141,
      "outputs": [
        {
          "output_type": "stream",
          "text": [
            "bad     1382\n",
            "good     217\n",
            "Name: quality, dtype: int64\n"
          ],
          "name": "stdout"
        },
        {
          "output_type": "display_data",
          "data": {
            "image/png": "[encoded data removed]",
            "text/plain": [
              "<Figure size 432x288 with 1 Axes>"
            ]
          },
          "metadata": {
            "tags": [],
            "needs_background": "light"
          }
        }
      ]
    },
    {
      "cell_type": "code",
      "metadata": {
        "id": "5o6IZEIuHuiM"
      },
      "source": [
        "label_quality = LabelEncoder()\n",
        "# For an n class output variable, LabelEncoder encodes the  target variable with values from 0 to n-1.\n",
        "# Here, label_quality is an object of LabelEncoder class.\n",
        "# We use this object to fit_transform the output variable from categorical to numerical variable."
      ],
      "execution_count": 142,
      "outputs": []
    },
    {
      "cell_type": "code",
      "metadata": {
        "colab": {
          "base_uri": "https://localhost:8080/"
        },
        "id": "SRC5ujqCIA_0",
        "outputId": "e26ede0f-a30e-4b76-94f1-7e0fdc98625e"
      },
      "source": [
        "wine_df['quality'] = label_quality.fit_transform(wine_df['quality'])\n",
        "# Bad became 0 and Good became 1\n",
        "wine_df['quality']"
      ],
      "execution_count": 143,
      "outputs": [
        {
          "output_type": "execute_result",
          "data": {
            "text/plain": [
              "0       0\n",
              "1       0\n",
              "2       0\n",
              "3       0\n",
              "4       0\n",
              "       ..\n",
              "1594    0\n",
              "1595    0\n",
              "1596    0\n",
              "1597    0\n",
              "1598    0\n",
              "Name: quality, Length: 1599, dtype: int64"
            ]
          },
          "metadata": {
            "tags": []
          },
          "execution_count": 143
        }
      ]
    },
    {
      "cell_type": "code",
      "metadata": {
        "colab": {
          "base_uri": "https://localhost:8080/",
          "height": 331
        },
        "id": "N0ElEohNpS-M",
        "outputId": "53bf0020-30fd-4332-a124-21c752c94887"
      },
      "source": [
        "print(wine_df['quality'].value_counts())\n",
        "sns.countplot( x=wine_df['quality']);\n"
      ],
      "execution_count": 144,
      "outputs": [
        {
          "output_type": "stream",
          "text": [
            "0    1382\n",
            "1     217\n",
            "Name: quality, dtype: int64\n"
          ],
          "name": "stdout"
        },
        {
          "output_type": "display_data",
          "data": {
            "image/png": "[encoded data removed]",
            "text/plain": [
              "<Figure size 432x288 with 1 Axes>"
            ]
          },
          "metadata": {
            "tags": [],
            "needs_background": "light"
          }
        }
      ]
    },
    {
      "cell_type": "markdown",
      "metadata": {
        "id": "hdSYxg8fq43X"
      },
      "source": [
        "#### **there are 1382 entries as 0 (Bad) and 217 entries as 1 (Good) which cross checks.**"
      ]
    },
    {
      "cell_type": "code",
      "metadata": {
        "colab": {
          "base_uri": "https://localhost:8080/"
        },
        "id": "9blDYsju2jkJ",
        "outputId": "ae8471cd-b9ac-4f2e-a8ba-9e3426f9c3aa"
      },
      "source": [
        "wine_df.columns"
      ],
      "execution_count": 145,
      "outputs": [
        {
          "output_type": "execute_result",
          "data": {
            "text/plain": [
              "Index(['fixed acidity', 'volatile acidity', 'citric acid', 'residual sugar',\n",
              "       'chlorides', 'free sulfur dioxide', 'total sulfur dioxide', 'density',\n",
              "       'pH', 'sulphates', 'alcohol', 'quality'],\n",
              "      dtype='object')"
            ]
          },
          "metadata": {
            "tags": []
          },
          "execution_count": 145
        }
      ]
    },
    {
      "cell_type": "code",
      "metadata": {
        "colab": {
          "base_uri": "https://localhost:8080/",
          "height": 423
        },
        "id": "1VqsSzcFprLl",
        "outputId": "0ebcd360-00e1-4e82-f9ac-4a1d5c01a7c7"
      },
      "source": [
        "# Now we split the dataset into input variables X and output variable y\n",
        "X =wine_df[[ 'volatile acidity', 'citric acid','residual sugar', 'chlorides',\n",
        "            'free sulfur dioxide', 'total sulfur dioxide',\n",
        "          'sulphates', 'alcohol']].copy()\n",
        "y=wine_df['quality']\n",
        "X"
      ],
      "execution_count": 146,
      "outputs": [
        {
          "output_type": "execute_result",
          "data": {
            "text/html": [
              "<div>\n",
              "<style scoped>\n",
              "    .dataframe tbody tr th:only-of-type {\n",
              "        vertical-align: middle;\n",
              "    }\n",
              "\n",
              "    .dataframe tbody tr th {\n",
              "        vertical-align: top;\n",
              "    }\n",
              "\n",
              "    .dataframe thead th {\n",
              "        text-align: right;\n",
              "    }\n",
              "</style>\n",
              "<table border=\"1\" class=\"dataframe\">\n",
              "  <thead>\n",
              "    <tr style=\"text-align: right;\">\n",
              "      <th></th>\n",
              "      <th>volatile acidity</th>\n",
              "      <th>citric acid</th>\n",
              "      <th>residual sugar</th>\n",
              "      <th>chlorides</th>\n",
              "      <th>free sulfur dioxide</th>\n",
              "      <th>total sulfur dioxide</th>\n",
              "      <th>sulphates</th>\n",
              "      <th>alcohol</th>\n",
              "    </tr>\n",
              "  </thead>\n",
              "  <tbody>\n",
              "    <tr>\n",
              "      <th>0</th>\n",
              "      <td>0.700</td>\n",
              "      <td>0.00</td>\n",
              "      <td>1.9</td>\n",
              "      <td>0.076</td>\n",
              "      <td>11.0</td>\n",
              "      <td>34.0</td>\n",
              "      <td>0.56</td>\n",
              "      <td>9.4</td>\n",
              "    </tr>\n",
              "    <tr>\n",
              "      <th>1</th>\n",
              "      <td>0.880</td>\n",
              "      <td>0.00</td>\n",
              "      <td>2.6</td>\n",
              "      <td>0.098</td>\n",
              "      <td>25.0</td>\n",
              "      <td>67.0</td>\n",
              "      <td>0.68</td>\n",
              "      <td>9.8</td>\n",
              "    </tr>\n",
              "    <tr>\n",
              "      <th>2</th>\n",
              "      <td>0.760</td>\n",
              "      <td>0.04</td>\n",
              "      <td>2.3</td>\n",
              "      <td>0.092</td>\n",
              "      <td>15.0</td>\n",
              "      <td>54.0</td>\n",
              "      <td>0.65</td>\n",
              "      <td>9.8</td>\n",
              "    </tr>\n",
              "    <tr>\n",
              "      <th>3</th>\n",
              "      <td>0.280</td>\n",
              "      <td>0.56</td>\n",
              "      <td>1.9</td>\n",
              "      <td>0.075</td>\n",
              "      <td>17.0</td>\n",
              "      <td>60.0</td>\n",
              "      <td>0.58</td>\n",
              "      <td>9.8</td>\n",
              "    </tr>\n",
              "    <tr>\n",
              "      <th>4</th>\n",
              "      <td>0.700</td>\n",
              "      <td>0.00</td>\n",
              "      <td>1.9</td>\n",
              "      <td>0.076</td>\n",
              "      <td>11.0</td>\n",
              "      <td>34.0</td>\n",
              "      <td>0.56</td>\n",
              "      <td>9.4</td>\n",
              "    </tr>\n",
              "    <tr>\n",
              "      <th>...</th>\n",
              "      <td>...</td>\n",
              "      <td>...</td>\n",
              "      <td>...</td>\n",
              "      <td>...</td>\n",
              "      <td>...</td>\n",
              "      <td>...</td>\n",
              "      <td>...</td>\n",
              "      <td>...</td>\n",
              "    </tr>\n",
              "    <tr>\n",
              "      <th>1594</th>\n",
              "      <td>0.600</td>\n",
              "      <td>0.08</td>\n",
              "      <td>2.0</td>\n",
              "      <td>0.090</td>\n",
              "      <td>32.0</td>\n",
              "      <td>44.0</td>\n",
              "      <td>0.58</td>\n",
              "      <td>10.5</td>\n",
              "    </tr>\n",
              "    <tr>\n",
              "      <th>1595</th>\n",
              "      <td>0.550</td>\n",
              "      <td>0.10</td>\n",
              "      <td>2.2</td>\n",
              "      <td>0.062</td>\n",
              "      <td>39.0</td>\n",
              "      <td>51.0</td>\n",
              "      <td>0.76</td>\n",
              "      <td>11.2</td>\n",
              "    </tr>\n",
              "    <tr>\n",
              "      <th>1596</th>\n",
              "      <td>0.510</td>\n",
              "      <td>0.13</td>\n",
              "      <td>2.3</td>\n",
              "      <td>0.076</td>\n",
              "      <td>29.0</td>\n",
              "      <td>40.0</td>\n",
              "      <td>0.75</td>\n",
              "      <td>11.0</td>\n",
              "    </tr>\n",
              "    <tr>\n",
              "      <th>1597</th>\n",
              "      <td>0.645</td>\n",
              "      <td>0.12</td>\n",
              "      <td>2.0</td>\n",
              "      <td>0.075</td>\n",
              "      <td>32.0</td>\n",
              "      <td>44.0</td>\n",
              "      <td>0.71</td>\n",
              "      <td>10.2</td>\n",
              "    </tr>\n",
              "    <tr>\n",
              "      <th>1598</th>\n",
              "      <td>0.310</td>\n",
              "      <td>0.47</td>\n",
              "      <td>3.6</td>\n",
              "      <td>0.067</td>\n",
              "      <td>18.0</td>\n",
              "      <td>42.0</td>\n",
              "      <td>0.66</td>\n",
              "      <td>11.0</td>\n",
              "    </tr>\n",
              "  </tbody>\n",
              "</table>\n",
              "<p>1599 rows × 8 columns</p>\n",
              "</div>"
            ],
            "text/plain": [
              "      volatile acidity  citric acid  ...  sulphates  alcohol\n",
              "0                0.700         0.00  ...       0.56      9.4\n",
              "1                0.880         0.00  ...       0.68      9.8\n",
              "2                0.760         0.04  ...       0.65      9.8\n",
              "3                0.280         0.56  ...       0.58      9.8\n",
              "4                0.700         0.00  ...       0.56      9.4\n",
              "...                ...          ...  ...        ...      ...\n",
              "1594             0.600         0.08  ...       0.58     10.5\n",
              "1595             0.550         0.10  ...       0.76     11.2\n",
              "1596             0.510         0.13  ...       0.75     11.0\n",
              "1597             0.645         0.12  ...       0.71     10.2\n",
              "1598             0.310         0.47  ...       0.66     11.0\n",
              "\n",
              "[1599 rows x 8 columns]"
            ]
          },
          "metadata": {
            "tags": []
          },
          "execution_count": 146
        }
      ]
    },
    {
      "cell_type": "code",
      "metadata": {
        "colab": {
          "base_uri": "https://localhost:8080/"
        },
        "id": "4c783K-aspzj",
        "outputId": "2ee374d0-4815-49f7-f2e8-73d0c593d267"
      },
      "source": [
        "#Now we split the X variable as well as y variable in training set and test set\n",
        "X_train,X_test,y_train,y_test = train_test_split(X,y, test_size =0.2, random_state =42)\n",
        "y_train"
      ],
      "execution_count": 147,
      "outputs": [
        {
          "output_type": "execute_result",
          "data": {
            "text/plain": [
              "493     0\n",
              "354     0\n",
              "342     0\n",
              "834     0\n",
              "705     0\n",
              "       ..\n",
              "1130    0\n",
              "1294    0\n",
              "860     0\n",
              "1459    1\n",
              "1126    0\n",
              "Name: quality, Length: 1279, dtype: int64"
            ]
          },
          "metadata": {
            "tags": []
          },
          "execution_count": 147
        }
      ]
    },
    {
      "cell_type": "code",
      "metadata": {
        "id": "y0gKDF3ctLBx"
      },
      "source": [
        "# Applying standad scaler to standardize the variables\n",
        "sc =StandardScaler()\n",
        "X_train = sc.fit_transform(X_train)\n",
        "X_test = sc.transform(X_test)"
      ],
      "execution_count": 148,
      "outputs": []
    },
    {
      "cell_type": "markdown",
      "metadata": {
        "id": "m6pQBCrCCqHt"
      },
      "source": [
        "## **Now, we are going to evaluate the performance of various models to select the most suitable.** \n",
        "\n",
        "\n",
        "#### **In a classification problem, if the accuracies and f1_scores are comparable, the metric we choose is dependent on the business objective.We optimize either for precision or recall depending on the nature of positive.** \n",
        "\n",
        "If **1 means having a better condition than 0**, as in this case of wine quality, or part of machinery being good, it is **better to optimize for precision** since, when in doubt, it is better to reject than accept **(more false negative than false positive)** to ensure the quality, meaning it is better to reject a good part as not, than fitting a faulty part in a machinery which may cause loss of quality, thereby trust and even life.\n",
        "\n",
        "If **1 means having a worse condition than 0**, as in this case of 1 meaning confirmation of disease or fraud, it is **better to optimize for recall** since, when in doubt, it is better to  accept than reject **(more false positive than false negative)** to ensure safety, meaning, it is better to predict a disease or fraud when it is not there than to leave it undetected.\n",
        "\n",
        "### Since we are having 1 as a better condition than 0, **we are aiming for better precision, when the accuracies and f1_scores are comparable**"
      ]
    },
    {
      "cell_type": "markdown",
      "metadata": {
        "id": "OUkW-ZMIlYOM"
      },
      "source": [
        "# **NULL ACCURACY**\n",
        "\n",
        " **It means the accuracy of a dumb machine which predicts the most dominant class output, no matter what the input is. Here in the output we have 1s and 0s, out of which the more dominant class is 0. What if the machine only outputs 0 for whatever be the input? what will be the accuracy? that is given by null accuracy.** \n",
        "\n",
        " **Although on its own it is not much useful, when this value is compared with the accuracy score of the model, we'll get an idea as to how good our model is.**"
      ]
    },
    {
      "cell_type": "code",
      "metadata": {
        "colab": {
          "base_uri": "https://localhost:8080/"
        },
        "id": "X5ejczp0z3Eo",
        "outputId": "75281a0b-01a6-4e2c-d524-32e54070286e"
      },
      "source": [
        "# finding out class distribution \n",
        "y_test.value_counts()"
      ],
      "execution_count": 149,
      "outputs": [
        {
          "output_type": "execute_result",
          "data": {
            "text/plain": [
              "0    273\n",
              "1     47\n",
              "Name: quality, dtype: int64"
            ]
          },
          "metadata": {
            "tags": []
          },
          "execution_count": 149
        }
      ]
    },
    {
      "cell_type": "code",
      "metadata": {
        "colab": {
          "base_uri": "https://localhost:8080/"
        },
        "id": "u9h9Rnselfxw",
        "outputId": "6b6d6b9f-bb28-4d6b-df36-bd0fc86a39f4"
      },
      "source": [
        "# select the class with highest value count which is the first entry\n",
        "y_test.value_counts().head(1)"
      ],
      "execution_count": 150,
      "outputs": [
        {
          "output_type": "execute_result",
          "data": {
            "text/plain": [
              "0    273\n",
              "Name: quality, dtype: int64"
            ]
          },
          "metadata": {
            "tags": []
          },
          "execution_count": 150
        }
      ]
    },
    {
      "cell_type": "code",
      "metadata": {
        "colab": {
          "base_uri": "https://localhost:8080/"
        },
        "id": "kQOLqXFIlxY2",
        "outputId": "7ab3046c-aae3-4f28-a3a0-e5c71bd97655"
      },
      "source": [
        "# converting the first entry into percentage by dividing by the total entries. This is still pandas series \n",
        "y_test.value_counts().head(1)/len(y_test)"
      ],
      "execution_count": 151,
      "outputs": [
        {
          "output_type": "execute_result",
          "data": {
            "text/plain": [
              "0    0.853125\n",
              "Name: quality, dtype: float64"
            ]
          },
          "metadata": {
            "tags": []
          },
          "execution_count": 151
        }
      ]
    },
    {
      "cell_type": "code",
      "metadata": {
        "colab": {
          "base_uri": "https://localhost:8080/"
        },
        "id": "1DtC__MHmKKY",
        "outputId": "0143e0f6-a15a-4c33-8902-df305ec1045f"
      },
      "source": [
        "# converting the pandas series  into numpy array \n",
        "(y_test.value_counts().head(1)/len(y_test)).values"
      ],
      "execution_count": 152,
      "outputs": [
        {
          "output_type": "execute_result",
          "data": {
            "text/plain": [
              "array([0.853125])"
            ]
          },
          "metadata": {
            "tags": []
          },
          "execution_count": 152
        }
      ]
    },
    {
      "cell_type": "code",
      "metadata": {
        "colab": {
          "base_uri": "https://localhost:8080/"
        },
        "id": "U4QSPf2xmn_-",
        "outputId": "e7a84bde-bf92-41e3-8144-1e39765838f2"
      },
      "source": [
        "#choosing the entry in the numpy array by indexing\n",
        "(y_test.value_counts().head(1)/len(y_test)).values[0]"
      ],
      "execution_count": 153,
      "outputs": [
        {
          "output_type": "execute_result",
          "data": {
            "text/plain": [
              "0.853125"
            ]
          },
          "metadata": {
            "tags": []
          },
          "execution_count": 153
        }
      ]
    },
    {
      "cell_type": "code",
      "metadata": {
        "colab": {
          "base_uri": "https://localhost:8080/"
        },
        "id": "Xmn6spy6hTTT",
        "outputId": "3feef7f1-5448-4c13-aeaf-fbc998344730"
      },
      "source": [
        "#Logistic Regression\n",
        "\n",
        "from sklearn.linear_model import  LogisticRegression\n",
        "\n",
        "clf =LogisticRegression(random_state=2)\n",
        "clf.fit(X_train,y_train)\n",
        "y_pred = clf.predict(X_test)\n",
        "y_pred_prob =clf.predict_proba(X_test)[:,1]\n",
        "print(confusion_matrix(y_test,y_pred))\n",
        "print(classification_report(y_test,y_pred))\n",
        "print('accuracy score:', accuracy_score(y_test, y_pred))\n",
        "print('null accuracy score:', (y_test.value_counts().head(1)/len(y_test)).values[0])\n",
        "print('precision score:', precision_score(y_test, y_pred))\n",
        "print('recall score:', recall_score(y_test, y_pred))\n",
        "print('f1 score:', f1_score(y_test, y_pred, average ='macro')) # when there is class imbalance, better to choose macro\n",
        "print('AUC:', roc_auc_score(y_test, y_pred_prob))\n"
      ],
      "execution_count": 154,
      "outputs": [
        {
          "output_type": "stream",
          "text": [
            "[[266   7]\n",
            " [ 33  14]]\n",
            "              precision    recall  f1-score   support\n",
            "\n",
            "           0       0.89      0.97      0.93       273\n",
            "           1       0.67      0.30      0.41        47\n",
            "\n",
            "    accuracy                           0.88       320\n",
            "   macro avg       0.78      0.64      0.67       320\n",
            "weighted avg       0.86      0.88      0.85       320\n",
            "\n",
            "accuracy score: 0.875\n",
            "null accuracy score: 0.853125\n",
            "precision score: 0.6666666666666666\n",
            "recall score: 0.2978723404255319\n",
            "f1 score: 0.6709173179761415\n",
            "AUC: 0.884030862754267\n"
          ],
          "name": "stdout"
        }
      ]
    },
    {
      "cell_type": "markdown",
      "metadata": {
        "id": "4jpP8bfGFVJ2"
      },
      "source": [
        "**We can see that although the accuracy is 88%, the null accuracy is 85%. This gives us a context and we can say that it doesn't have a good accuracy because even a dumb machine could have an accuracy of 85%. But if we had not compared it with null accuracy, we would have thought it is a good accuracy score. Precisely for this reason, we calculate null accuracy score.**"
      ]
    },
    {
      "cell_type": "code",
      "metadata": {
        "colab": {
          "base_uri": "https://localhost:8080/"
        },
        "id": "YS3k4oPn7iZf",
        "outputId": "a9bd013a-e866-418d-8445-b9ceb87ecf23"
      },
      "source": [
        "#Decision Tree\n",
        "\n",
        "from sklearn.tree import DecisionTreeClassifier\n",
        "\n",
        "clf2=DecisionTreeClassifier(random_state =42,)\n",
        "clf2.fit(X_train,y_train)\n",
        "y_pred2 = clf2.predict(X_test)\n",
        "y_pred_prob2 =clf2.predict_proba(X_test)[:,1]\n",
        "print(confusion_matrix(y_test, y_pred2))\n",
        "print(classification_report(y_test,y_pred2))\n",
        "print('accuracy score:', accuracy_score(y_test, y_pred2))\n",
        "print('null accuracy score:', (y_test.value_counts().head(1)/len(y_test)).values[0])\n",
        "print('precision score:', precision_score(y_test, y_pred2))\n",
        "print('recall score:', recall_score(y_test, y_pred2))\n",
        "print('f1 score:', f1_score(y_test, y_pred2, average ='macro'))\n",
        "print('AUC:', roc_auc_score(y_test, y_pred_prob2))\n",
        "\n"
      ],
      "execution_count": 155,
      "outputs": [
        {
          "output_type": "stream",
          "text": [
            "[[260  13]\n",
            " [ 23  24]]\n",
            "              precision    recall  f1-score   support\n",
            "\n",
            "           0       0.92      0.95      0.94       273\n",
            "           1       0.65      0.51      0.57        47\n",
            "\n",
            "    accuracy                           0.89       320\n",
            "   macro avg       0.78      0.73      0.75       320\n",
            "weighted avg       0.88      0.89      0.88       320\n",
            "\n",
            "accuracy score: 0.8875\n",
            "null accuracy score: 0.853125\n",
            "precision score: 0.6486486486486487\n",
            "recall score: 0.5106382978723404\n",
            "f1 score: 0.7533401849948613\n",
            "AUC: 0.7315096251266463\n"
          ],
          "name": "stdout"
        }
      ]
    },
    {
      "cell_type": "code",
      "metadata": {
        "colab": {
          "base_uri": "https://localhost:8080/",
          "height": 314
        },
        "id": "lrJdEPPO0_1A",
        "outputId": "f8e9f60c-6e4c-4bc3-b5c7-c804f23c6b60"
      },
      "source": [
        "rs_range1 =range(0,200)\n",
        "rs_score1 =[]\n",
        "for r in rs_range1:\n",
        "  clf8=DecisionTreeClassifier(random_state =r,)\n",
        "  clf8.fit(X_train,y_train)\n",
        "  y_pred8 = clf8.predict(X_test)\n",
        "  y_pred_prob8 =clf8.predict_proba(X_test)[:,1]\n",
        "  rs_score1.append(roc_auc_score(y_test, y_pred_prob8).tolist())\n",
        "\n",
        "#plot the value of  random_state value (x_axis) vs accuracy (y-axis)\n",
        "print(max(rs_score1))\n",
        "plt.plot(rs_range1,rs_score1)\n",
        "plt.xlabel('random state value')\n",
        "plt.ylabel(' AUC')\n"
      ],
      "execution_count": 156,
      "outputs": [
        {
          "output_type": "stream",
          "text": [
            "0.7546177227028292\n"
          ],
          "name": "stdout"
        },
        {
          "output_type": "execute_result",
          "data": {
            "text/plain": [
              "Text(0, 0.5, ' AUC')"
            ]
          },
          "metadata": {
            "tags": []
          },
          "execution_count": 156
        },
        {
          "output_type": "display_data",
          "data": {
            "image/png": "[encoded data removed]",
            "text/plain": [
              "<Figure size 432x288 with 1 Axes>"
            ]
          },
          "metadata": {
            "tags": [],
            "needs_background": "light"
          }
        }
      ]
    },
    {
      "cell_type": "code",
      "metadata": {
        "colab": {
          "base_uri": "https://localhost:8080/"
        },
        "id": "aRFQeUVmneFo",
        "outputId": "b007721d-ba0f-4e15-da73-f793dd2c2e10"
      },
      "source": [
        "lst0=[]\n",
        "for k in (rs_score1):\n",
        "  lst0.append(k)\n",
        "\n",
        "largest0 =max(lst0)\n",
        "all_indexes0 = [g for g, x in enumerate(lst0) if x == largest0]\n",
        "print(all_indexes0, largest0)\n",
        "\n",
        "#actual value to be taken is first entry +first value of range "
      ],
      "execution_count": 157,
      "outputs": [
        {
          "output_type": "stream",
          "text": [
            "[80, 153] 0.7546177227028292\n"
          ],
          "name": "stdout"
        }
      ]
    },
    {
      "cell_type": "markdown",
      "metadata": {
        "id": "i_Do6t5Rn6uY"
      },
      "source": [
        "**random_state = 80+ 0(first value of range) = 80**"
      ]
    },
    {
      "cell_type": "code",
      "metadata": {
        "id": "UIm3Clcb1AyR",
        "colab": {
          "base_uri": "https://localhost:8080/",
          "height": 315
        },
        "outputId": "22a38845-ad19-4d20-bcee-ceb764b89918"
      },
      "source": [
        "rs_range11 =range(1,50)\n",
        "rs_score11 =[]\n",
        "for m in rs_range11:\n",
        "  clf81=DecisionTreeClassifier(random_state =80,max_depth=m)\n",
        "  clf81.fit(X_train,y_train)\n",
        "  y_pred81 = clf81.predict(X_test)\n",
        "  y_pred_prob81 =clf81.predict_proba(X_test)[:,1]\n",
        "  rs_score11.append(roc_auc_score(y_test, y_pred_prob81).tolist())\n",
        "\n",
        "#plot the value of  random_state value (x_axis) vs accuracy (y-axis)\n",
        "print(max(rs_score11))\n",
        "plt.plot(rs_range11,rs_score11)\n",
        "plt.xlabel('max_depth')\n",
        "plt.ylabel(' AUC')\n",
        "\n"
      ],
      "execution_count": 158,
      "outputs": [
        {
          "output_type": "stream",
          "text": [
            "0.8644688644688645\n"
          ],
          "name": "stdout"
        },
        {
          "output_type": "execute_result",
          "data": {
            "text/plain": [
              "Text(0, 0.5, ' AUC')"
            ]
          },
          "metadata": {
            "tags": []
          },
          "execution_count": 158
        },
        {
          "output_type": "display_data",
          "data": {
            "image/png": "[encoded data removed]",
            "text/plain": [
              "<Figure size 432x288 with 1 Axes>"
            ]
          },
          "metadata": {
            "tags": [],
            "needs_background": "light"
          }
        }
      ]
    },
    {
      "cell_type": "code",
      "metadata": {
        "colab": {
          "base_uri": "https://localhost:8080/"
        },
        "id": "Q_ETRKKN1Uop",
        "outputId": "1a86f5f2-3cb2-40e6-c0e4-62530159d97e"
      },
      "source": [
        "lst11=[]\n",
        "for k in (rs_score11):\n",
        "  lst11.append(k)\n",
        "\n",
        "largest11 =max(lst11)\n",
        "all_indexes11 = [g for g, x in enumerate(lst11) if x == largest11]\n",
        "print(all_indexes11, largest11)\n",
        "\n",
        "#actual value to be taken is first entry +first value of range "
      ],
      "execution_count": 159,
      "outputs": [
        {
          "output_type": "stream",
          "text": [
            "[2] 0.8644688644688645\n"
          ],
          "name": "stdout"
        }
      ]
    },
    {
      "cell_type": "markdown",
      "metadata": {
        "id": "W2CqKan1fzbh"
      },
      "source": [
        "**max_depth = 2+ 1(first value of range) = 3**"
      ]
    },
    {
      "cell_type": "code",
      "metadata": {
        "colab": {
          "base_uri": "https://localhost:8080/"
        },
        "id": "EbyH9n65gOrV",
        "outputId": "79e8f1ab-e3ee-44c6-c3b6-67a0be87df02"
      },
      "source": [
        "clf21=DecisionTreeClassifier(random_state =80,max_depth=3)\n",
        "clf21.fit(X_train,y_train)\n",
        "y_pred21 = clf21.predict(X_test)\n",
        "y_pred_prob21 =clf21.predict_proba(X_test)[:,1]\n",
        "print(confusion_matrix(y_test, y_pred21))\n",
        "print(classification_report(y_test,y_pred21))\n",
        "print('accuracy score:', accuracy_score(y_test, y_pred21))\n",
        "print('null accuracy score:', (y_test.value_counts().head(1)/len(y_test)).values[0])\n",
        "print('precision score:', precision_score(y_test, y_pred21))\n",
        "print('recall score:', recall_score(y_test, y_pred21))\n",
        "print('f1 score:', f1_score(y_test, y_pred21, average ='macro'))\n",
        "print('AUC:', roc_auc_score(y_test, y_pred_prob21))"
      ],
      "execution_count": 160,
      "outputs": [
        {
          "output_type": "stream",
          "text": [
            "[[264   9]\n",
            " [ 36  11]]\n",
            "              precision    recall  f1-score   support\n",
            "\n",
            "           0       0.88      0.97      0.92       273\n",
            "           1       0.55      0.23      0.33        47\n",
            "\n",
            "    accuracy                           0.86       320\n",
            "   macro avg       0.72      0.60      0.62       320\n",
            "weighted avg       0.83      0.86      0.83       320\n",
            "\n",
            "accuracy score: 0.859375\n",
            "null accuracy score: 0.853125\n",
            "precision score: 0.55\n",
            "recall score: 0.23404255319148937\n",
            "f1 score: 0.6249120887708057\n",
            "AUC: 0.8644688644688645\n"
          ],
          "name": "stdout"
        }
      ]
    },
    {
      "cell_type": "code",
      "metadata": {
        "colab": {
          "base_uri": "https://localhost:8080/",
          "height": 315
        },
        "id": "290JsGkYgpWS",
        "outputId": "9e9e6068-c6c4-44fb-993f-7f3963d374cf"
      },
      "source": [
        "from sklearn.preprocessing import binarize\n",
        "\n",
        "t_range1 =[0,0.1,0.2,0.3,0.4,0.5,0.6,0.7,0.8,0.9,1]\n",
        "t_score1 =[]\n",
        "\n",
        "for t in t_range1:\n",
        "  y_pred_class21= binarize(y_pred_prob21.reshape(-1, 1),t)\n",
        "  t_score1.append(accuracy_score(y_test, y_pred_class21).tolist())\n",
        "\n",
        "\n",
        "#plot the value of  random_state value (x_axis) vs accuracy (y-axis)\n",
        "print(max(t_score1))\n",
        "plt.plot(t_range1,t_score1)\n",
        "plt.xlabel('threshold value')\n",
        "plt.ylabel(' accuracy')"
      ],
      "execution_count": 161,
      "outputs": [
        {
          "output_type": "stream",
          "text": [
            "0.875\n"
          ],
          "name": "stdout"
        },
        {
          "output_type": "execute_result",
          "data": {
            "text/plain": [
              "Text(0, 0.5, ' accuracy')"
            ]
          },
          "metadata": {
            "tags": []
          },
          "execution_count": 161
        },
        {
          "output_type": "display_data",
          "data": {
            "image/png": "[encoded data removed]",
            "text/plain": [
              "<Figure size 432x288 with 1 Axes>"
            ]
          },
          "metadata": {
            "tags": [],
            "needs_background": "light"
          }
        }
      ]
    },
    {
      "cell_type": "code",
      "metadata": {
        "colab": {
          "base_uri": "https://localhost:8080/"
        },
        "id": "FVqd8YXsi_pX",
        "outputId": "5125543c-8547-4c85-f699-320485da9ecd"
      },
      "source": [
        "#Decision Tree -best model\n",
        "\n",
        "clf22=DecisionTreeClassifier(random_state =153,max_depth=3)\n",
        "clf22.fit(X_train,y_train)\n",
        "y_pred22 = clf22.predict(X_test)\n",
        "y_pred_prob22 =clf22.predict_proba(X_test)[:,1]\n",
        "y_pred_class22 = binarize(y_pred_prob22.reshape(-1, 1),0.2)\n",
        "print(confusion_matrix(y_test,y_pred_class22))\n",
        "print(classification_report(y_test,y_pred_class22))\n",
        "print('accuracy score:', (accuracy_score(y_test, y_pred_class22)))\n",
        "print('null accuracy score:', (y_test.value_counts().head(1)/len(y_test)).values[0])\n",
        "print('precision score:', precision_score(y_test,y_pred_class22))\n",
        "print('recall score:', recall_score(y_test, y_pred_class22))\n",
        "print('f1 score:', f1_score(y_test, y_pred_class22, average ='macro'))\n",
        "print('AUC:', roc_auc_score(y_test, y_pred_prob22))"
      ],
      "execution_count": 162,
      "outputs": [
        {
          "output_type": "stream",
          "text": [
            "[[252  21]\n",
            " [ 19  28]]\n",
            "              precision    recall  f1-score   support\n",
            "\n",
            "           0       0.93      0.92      0.93       273\n",
            "           1       0.57      0.60      0.58        47\n",
            "\n",
            "    accuracy                           0.88       320\n",
            "   macro avg       0.75      0.76      0.75       320\n",
            "weighted avg       0.88      0.88      0.88       320\n",
            "\n",
            "accuracy score: 0.875\n",
            "null accuracy score: 0.853125\n",
            "precision score: 0.5714285714285714\n",
            "recall score: 0.5957446808510638\n",
            "f1 score: 0.7549019607843137\n",
            "AUC: 0.8644688644688645\n"
          ],
          "name": "stdout"
        }
      ]
    },
    {
      "cell_type": "markdown",
      "metadata": {
        "id": "JGsut6Y_mRwP"
      },
      "source": [
        "**We can see that the best model of decision tree performs worse than Logistic Regression model which had both accuracy as well as AUC as 0.88.**\n",
        "\n",
        "Thus we move on to Random Forest."
      ]
    },
    {
      "cell_type": "code",
      "metadata": {
        "colab": {
          "base_uri": "https://localhost:8080/"
        },
        "id": "Tc_F20P48U1Y",
        "outputId": "82a3d473-e676-4f21-b2bf-e8c6e43738f1"
      },
      "source": [
        "# Random Forest\n",
        "\n",
        "from sklearn.ensemble import RandomForestClassifier\n",
        "\n",
        "clf3=RandomForestClassifier(random_state =42)\n",
        "clf3.fit(X_train,y_train)\n",
        "y_pred3 = clf3.predict(X_test)\n",
        "y_pred_prob3 =clf3.predict_proba(X_test)[:,1]\n",
        "print(confusion_matrix(y_test,y_pred3))\n",
        "print(classification_report(y_test,y_pred3))\n",
        "print('accuracy score:', (accuracy_score(y_test, y_pred3)))\n",
        "print('null accuracy score:', (y_test.value_counts().head(1)/len(y_test)).values[0])\n",
        "print('precision score:', precision_score(y_test, y_pred3))\n",
        "print('recall score:', recall_score(y_test, y_pred3))\n",
        "print('f1 score:', f1_score(y_test, y_pred3, average ='macro'))\n",
        "print('AUC:', roc_auc_score(y_test, y_pred_prob3))\n"
      ],
      "execution_count": 163,
      "outputs": [
        {
          "output_type": "stream",
          "text": [
            "[[266   7]\n",
            " [ 22  25]]\n",
            "              precision    recall  f1-score   support\n",
            "\n",
            "           0       0.92      0.97      0.95       273\n",
            "           1       0.78      0.53      0.63        47\n",
            "\n",
            "    accuracy                           0.91       320\n",
            "   macro avg       0.85      0.75      0.79       320\n",
            "weighted avg       0.90      0.91      0.90       320\n",
            "\n",
            "accuracy score: 0.909375\n",
            "null accuracy score: 0.853125\n",
            "precision score: 0.78125\n",
            "recall score: 0.5319148936170213\n",
            "f1 score: 0.790608993885241\n",
            "AUC: 0.9427168576104746\n"
          ],
          "name": "stdout"
        }
      ]
    },
    {
      "cell_type": "code",
      "metadata": {
        "colab": {
          "base_uri": "https://localhost:8080/",
          "height": 314
        },
        "id": "MXql8DRZvYJ6",
        "outputId": "9456ce0f-7a5d-43cd-9b5f-669729ff823d"
      },
      "source": [
        "rs_range2 =range(0,400)\n",
        "rs_score2 =[]\n",
        "for r in rs_range2:\n",
        "  clf9=RandomForestClassifier(random_state =r,)\n",
        "  clf9.fit(X_train,y_train)\n",
        "  y_pred9 = clf9.predict(X_test)\n",
        "  y_pred_prob9 =clf9.predict_proba(X_test)[:,1]\n",
        "  rs_score2.append(roc_auc_score(y_test, y_pred_prob9).tolist())\n",
        "\n",
        "\n",
        "#plot the value of  random_state value (x_axis) vs accuracy (y-axis)\n",
        "print(max(rs_score2))\n",
        "plt.plot(rs_range2,rs_score2)\n",
        "plt.xlabel('random state value')\n",
        "plt.ylabel(' AUC')"
      ],
      "execution_count": 164,
      "outputs": [
        {
          "output_type": "stream",
          "text": [
            "0.9463408931494038\n"
          ],
          "name": "stdout"
        },
        {
          "output_type": "execute_result",
          "data": {
            "text/plain": [
              "Text(0, 0.5, ' AUC')"
            ]
          },
          "metadata": {
            "tags": []
          },
          "execution_count": 164
        },
        {
          "output_type": "display_data",
          "data": {
            "image/png": "[encoded data removed]",
            "text/plain": [
              "<Figure size 432x288 with 1 Axes>"
            ]
          },
          "metadata": {
            "tags": [],
            "needs_background": "light"
          }
        }
      ]
    },
    {
      "cell_type": "code",
      "metadata": {
        "colab": {
          "base_uri": "https://localhost:8080/"
        },
        "id": "meszM4cszgBc",
        "outputId": "e8bd2f22-737f-4173-92ad-433f858604cf"
      },
      "source": [
        "\n",
        "lst1=[]\n",
        "for k in (rs_score2):\n",
        "  lst1.append(k)\n",
        "\n",
        "largest1 =max(lst1)\n",
        "all_indexes1 = [g for g, x in enumerate(lst1) if x == largest1]\n",
        "print(all_indexes1, largest1)\n",
        "\n",
        "#actual value to be taken is first entry +first value of range "
      ],
      "execution_count": 165,
      "outputs": [
        {
          "output_type": "stream",
          "text": [
            "[196] 0.9463408931494038\n"
          ],
          "name": "stdout"
        }
      ]
    },
    {
      "cell_type": "markdown",
      "metadata": {
        "id": "1zRZjQbTsv6Q"
      },
      "source": [
        "**random_state = 196+ 0 (first value of range) = 196**"
      ]
    },
    {
      "cell_type": "code",
      "metadata": {
        "colab": {
          "base_uri": "https://localhost:8080/",
          "height": 314
        },
        "id": "lxmkpWW9QJJL",
        "outputId": "b20709da-7cad-4a23-aaa9-892fc17b43a1"
      },
      "source": [
        "md_range1 =range(1,200)\n",
        "md_score1 =[]\n",
        "for d in md_range1:\n",
        "  clf10=RandomForestClassifier(random_state =196, max_depth=d)\n",
        "  clf10.fit(X_train,y_train)\n",
        "  y_pred10 = clf10.predict(X_test)\n",
        "  y_pred_prob10 =clf10.predict_proba(X_test)[:,1]\n",
        "  md_score1.append(roc_auc_score(y_test, y_pred_prob10).tolist())\n",
        "  \n",
        "\n",
        "\n",
        "#plot the value of  random_state value (x_axis) vs accuracy (y-axis)\n",
        "print(max(md_score1))\n",
        "plt.plot(md_range1,md_score1)\n",
        "plt.xlabel('random state value')\n",
        "plt.ylabel(' AUC')"
      ],
      "execution_count": 166,
      "outputs": [
        {
          "output_type": "stream",
          "text": [
            "0.9470423193827449\n"
          ],
          "name": "stdout"
        },
        {
          "output_type": "execute_result",
          "data": {
            "text/plain": [
              "Text(0, 0.5, ' AUC')"
            ]
          },
          "metadata": {
            "tags": []
          },
          "execution_count": 166
        },
        {
          "output_type": "display_data",
          "data": {
            "image/png": "[encoded data removed]",
            "text/plain": [
              "<Figure size 432x288 with 1 Axes>"
            ]
          },
          "metadata": {
            "tags": [],
            "needs_background": "light"
          }
        }
      ]
    },
    {
      "cell_type": "code",
      "metadata": {
        "colab": {
          "base_uri": "https://localhost:8080/"
        },
        "id": "aNADCePFPo0X",
        "outputId": "e2a5fe43-0d71-45c9-a3f8-86c5d724e7c6"
      },
      "source": [
        "lst2=[]\n",
        "for k in (md_score1):\n",
        "  lst2.append(k)\n",
        "\n",
        "\n",
        "largest2 =max(lst2)\n",
        "all_indexes2 = [g for g, x in enumerate(lst2) if x == largest2]\n",
        "print(all_indexes2, largest2)\n",
        "#actual value to be taken is first entry +first value of range "
      ],
      "execution_count": 167,
      "outputs": [
        {
          "output_type": "stream",
          "text": [
            "[16] 0.9470423193827449\n"
          ],
          "name": "stdout"
        }
      ]
    },
    {
      "cell_type": "markdown",
      "metadata": {
        "id": "5zM9a30IsZLP"
      },
      "source": [
        "**max_depth = 16+ 1 (first value of range) = 17**"
      ]
    },
    {
      "cell_type": "code",
      "metadata": {
        "colab": {
          "base_uri": "https://localhost:8080/",
          "height": 314
        },
        "id": "avvLuEZsWksO",
        "outputId": "db633f2a-18e6-47cf-b7c3-d870e2c2d9bc"
      },
      "source": [
        "ne_range1 =range(1,200)\n",
        "ne_score1 =[]\n",
        "for n in ne_range1:\n",
        "  clf11=RandomForestClassifier(random_state =196, max_depth=17, n_estimators=n)\n",
        "  clf11.fit(X_train,y_train)\n",
        "  y_pred11 = clf11.predict(X_test)\n",
        "  y_pred_prob11 =clf11.predict_proba(X_test)[:,1]\n",
        "  ne_score1.append(roc_auc_score(y_test, y_pred_prob11).tolist())\n",
        "  \n",
        "\n",
        "\n",
        "#plot the value of  random_state value (x_axis) vs accuracy (y-axis)\n",
        "print(max(ne_score1))\n",
        "plt.plot(ne_range1,ne_score1)\n",
        "plt.xlabel('random state value')\n",
        "plt.ylabel(' AUC')"
      ],
      "execution_count": 168,
      "outputs": [
        {
          "output_type": "stream",
          "text": [
            "0.9530823786142935\n"
          ],
          "name": "stdout"
        },
        {
          "output_type": "execute_result",
          "data": {
            "text/plain": [
              "Text(0, 0.5, ' AUC')"
            ]
          },
          "metadata": {
            "tags": []
          },
          "execution_count": 168
        },
        {
          "output_type": "display_data",
          "data": {
            "image/png": "[encoded data removed]",
            "text/plain": [
              "<Figure size 432x288 with 1 Axes>"
            ]
          },
          "metadata": {
            "tags": [],
            "needs_background": "light"
          }
        }
      ]
    },
    {
      "cell_type": "code",
      "metadata": {
        "colab": {
          "base_uri": "https://localhost:8080/"
        },
        "id": "k2z9FyGGW6wg",
        "outputId": "3b4c6629-7775-42eb-d9bb-ed3d3e3df8cd"
      },
      "source": [
        "lst3=[]\n",
        "for k in (ne_score1):\n",
        "  lst3.append(k)\n",
        "  \n",
        "largest3 =max(lst3)\n",
        "all_indexes3 = [g for g, x in enumerate(lst3) if x == largest3]\n",
        "print(all_indexes3,largest3)\n",
        "\n",
        "\n",
        "#actual value to be taken is first entry +first value of range"
      ],
      "execution_count": 169,
      "outputs": [
        {
          "output_type": "stream",
          "text": [
            "[13] 0.9530823786142935\n"
          ],
          "name": "stdout"
        }
      ]
    },
    {
      "cell_type": "markdown",
      "metadata": {
        "id": "Qy9VoeGZ5qxL"
      },
      "source": [
        "**n_estimators = 13+ 1 (first value of range) = 14**"
      ]
    },
    {
      "cell_type": "code",
      "metadata": {
        "colab": {
          "base_uri": "https://localhost:8080/"
        },
        "id": "-WDXp6AO1YB9",
        "outputId": "03ace1be-b565-48b7-ea7d-b08e1ef7137c"
      },
      "source": [
        "#model 2-Random Forest\n",
        "\n",
        "clf4=RandomForestClassifier(random_state =196,max_depth =17,n_estimators=14,min_samples_leaf=1,max_leaf_nodes=None)\n",
        "clf4.fit(X_train,y_train)\n",
        "y_pred4 = clf4.predict(X_test)\n",
        "y_pred_prob4 =clf4.predict_proba(X_test)[:,1]\n",
        "print(confusion_matrix(y_test,y_pred4))\n",
        "print(classification_report(y_test,y_pred4))\n",
        "print('accuracy score:', (accuracy_score(y_test, y_pred4)))\n",
        "print('null accuracy score:', (y_test.value_counts().head(1)/len(y_test)).values[0])\n",
        "print('precision score:', precision_score(y_test, y_pred4))\n",
        "print('recall score:', recall_score(y_test, y_pred4))\n",
        "print('f1 score:', f1_score(y_test, y_pred4, average ='macro'))\n",
        "print('AUC:', roc_auc_score(y_test, y_pred_prob4))\n"
      ],
      "execution_count": 170,
      "outputs": [
        {
          "output_type": "stream",
          "text": [
            "[[267   6]\n",
            " [ 24  23]]\n",
            "              precision    recall  f1-score   support\n",
            "\n",
            "           0       0.92      0.98      0.95       273\n",
            "           1       0.79      0.49      0.61        47\n",
            "\n",
            "    accuracy                           0.91       320\n",
            "   macro avg       0.86      0.73      0.78       320\n",
            "weighted avg       0.90      0.91      0.90       320\n",
            "\n",
            "accuracy score: 0.90625\n",
            "null accuracy score: 0.853125\n",
            "precision score: 0.7931034482758621\n",
            "recall score: 0.48936170212765956\n",
            "f1 score: 0.7760358342665173\n",
            "AUC: 0.9530823786142935\n"
          ],
          "name": "stdout"
        }
      ]
    },
    {
      "cell_type": "code",
      "metadata": {
        "colab": {
          "base_uri": "https://localhost:8080/",
          "height": 314
        },
        "id": "NSuXJ_yj84g9",
        "outputId": "146b2b46-2c97-4f3c-f2d0-0dc715f97ecb"
      },
      "source": [
        "from sklearn.preprocessing import binarize\n",
        "\n",
        "t_range =[0,0.1,0.2,0.3,0.4,0.5,0.6,0.7,0.8,0.9,1]\n",
        "t_score =[]\n",
        "\n",
        "for t in t_range:\n",
        "  y_pred_class = binarize(y_pred_prob4.reshape(-1, 1),t)\n",
        "  t_score.append(accuracy_score(y_test, y_pred_class).tolist())\n",
        "\n",
        "\n",
        "#plot the value of  random_state value (x_axis) vs accuracy (y-axis)\n",
        "print(max(t_score))\n",
        "plt.plot(t_range,t_score)\n",
        "plt.xlabel('threshold value')\n",
        "plt.ylabel(' accuracy')"
      ],
      "execution_count": 171,
      "outputs": [
        {
          "output_type": "stream",
          "text": [
            "0.9125\n"
          ],
          "name": "stdout"
        },
        {
          "output_type": "execute_result",
          "data": {
            "text/plain": [
              "Text(0, 0.5, ' accuracy')"
            ]
          },
          "metadata": {
            "tags": []
          },
          "execution_count": 171
        },
        {
          "output_type": "display_data",
          "data": {
            "image/png": "[encoded data removed]",
            "text/plain": [
              "<Figure size 432x288 with 1 Axes>"
            ]
          },
          "metadata": {
            "tags": [],
            "needs_background": "light"
          }
        }
      ]
    },
    {
      "cell_type": "code",
      "metadata": {
        "colab": {
          "base_uri": "https://localhost:8080/"
        },
        "id": "9Zgh6kPz8-OU",
        "outputId": "370765e7-332b-40c1-f9e6-f01db33d97ed"
      },
      "source": [
        "\n",
        "lst5=[]\n",
        "for k in (t_score):\n",
        "  lst5.append(k)\n",
        "  \n",
        "largest5 =max(lst5)\n",
        "all_indexes5 = [g for g, x in enumerate(lst5) if x == largest5]\n",
        "print(all_indexes5,largest5)"
      ],
      "execution_count": 172,
      "outputs": [
        {
          "output_type": "stream",
          "text": [
            "[4] 0.9125\n"
          ],
          "name": "stdout"
        }
      ]
    },
    {
      "cell_type": "code",
      "metadata": {
        "colab": {
          "base_uri": "https://localhost:8080/"
        },
        "id": "YmivbjfjABco",
        "outputId": "02fa9656-e422-4354-fbab-a0acf5ee6d64"
      },
      "source": [
        "y_pred_class1 = binarize(y_pred_prob4.reshape(-1, 1),0.4)\n",
        "print(accuracy_score(y_test, y_pred_class1))"
      ],
      "execution_count": 173,
      "outputs": [
        {
          "output_type": "stream",
          "text": [
            "0.9125\n"
          ],
          "name": "stdout"
        }
      ]
    },
    {
      "cell_type": "code",
      "metadata": {
        "colab": {
          "base_uri": "https://localhost:8080/"
        },
        "id": "oGMRRNxCCyqf",
        "outputId": "d1387abb-aaca-4611-80e1-b311006c1aec"
      },
      "source": [
        "#Finalized model -Random Forest 1.1\n",
        "\n",
        "clf5=RandomForestClassifier(random_state =196,max_depth =17,n_estimators=13,min_samples_leaf=1,max_leaf_nodes=None)\n",
        "clf5.fit(X_train,y_train)\n",
        "y_pred5 = clf5.predict(X_test)\n",
        "y_pred_prob5 =clf5.predict_proba(X_test)[:,1]\n",
        "y_pred_class2 = binarize(y_pred_prob5.reshape(-1, 1),0.4)\n",
        "print(confusion_matrix(y_test,y_pred_class2))\n",
        "print(classification_report(y_test,y_pred_class2))\n",
        "print('accuracy score:', (accuracy_score(y_test, y_pred_class2)))\n",
        "print('null accuracy score:', (y_test.value_counts().head(1)/len(y_test)).values[0])\n",
        "print('precision score:', precision_score(y_test,y_pred_class2))\n",
        "print('recall score:', recall_score(y_test, y_pred_class2))\n",
        "print('f1 score:', f1_score(y_test, y_pred_class2, average ='macro'))\n",
        "print('AUC:', roc_auc_score(y_test, y_pred_prob5))"
      ],
      "execution_count": 174,
      "outputs": [
        {
          "output_type": "stream",
          "text": [
            "[[265   8]\n",
            " [ 18  29]]\n",
            "              precision    recall  f1-score   support\n",
            "\n",
            "           0       0.94      0.97      0.95       273\n",
            "           1       0.78      0.62      0.69        47\n",
            "\n",
            "    accuracy                           0.92       320\n",
            "   macro avg       0.86      0.79      0.82       320\n",
            "weighted avg       0.91      0.92      0.91       320\n",
            "\n",
            "accuracy score: 0.91875\n",
            "null accuracy score: 0.853125\n",
            "precision score: 0.7837837837837838\n",
            "recall score: 0.6170212765957447\n",
            "f1 score: 0.8218568002740665\n",
            "AUC: 0.9510560361624192\n"
          ],
          "name": "stdout"
        }
      ]
    },
    {
      "cell_type": "code",
      "metadata": {
        "colab": {
          "base_uri": "https://localhost:8080/"
        },
        "id": "7UB9TeI3a7C4",
        "outputId": "aa92ad2b-0226-40bc-9119-e5e0c032fdbe"
      },
      "source": [
        "#Finalized model -Random Forest 1.2\n",
        "\n",
        "clf5=RandomForestClassifier(random_state =196,max_depth =17,n_estimators=14,min_samples_leaf=1,max_leaf_nodes=None)\n",
        "clf5.fit(X_train,y_train)\n",
        "y_pred5 = clf5.predict(X_test)\n",
        "y_pred_prob5 =clf5.predict_proba(X_test)[:,1]\n",
        "y_pred_class2 = binarize(y_pred_prob5.reshape(-1, 1),0.4)\n",
        "print(confusion_matrix(y_test,y_pred_class2))\n",
        "print(classification_report(y_test,y_pred_class2))\n",
        "print('accuracy score:', (accuracy_score(y_test, y_pred_class2)))\n",
        "print('null accuracy score:', (y_test.value_counts().head(1)/len(y_test)).values[0])\n",
        "print('precision score:', precision_score(y_test,y_pred_class2))\n",
        "print('recall score:', recall_score(y_test, y_pred_class2))\n",
        "print('f1 score:', f1_score(y_test, y_pred_class2, average ='macro'))\n",
        "print('AUC:', roc_auc_score(y_test, y_pred_prob5))"
      ],
      "execution_count": 175,
      "outputs": [
        {
          "output_type": "stream",
          "text": [
            "[[262  11]\n",
            " [ 17  30]]\n",
            "              precision    recall  f1-score   support\n",
            "\n",
            "           0       0.94      0.96      0.95       273\n",
            "           1       0.73      0.64      0.68        47\n",
            "\n",
            "    accuracy                           0.91       320\n",
            "   macro avg       0.84      0.80      0.82       320\n",
            "weighted avg       0.91      0.91      0.91       320\n",
            "\n",
            "accuracy score: 0.9125\n",
            "null accuracy score: 0.853125\n",
            "precision score: 0.7317073170731707\n",
            "recall score: 0.6382978723404256\n",
            "f1 score: 0.8155467720685112\n",
            "AUC: 0.9530823786142935\n"
          ],
          "name": "stdout"
        }
      ]
    },
    {
      "cell_type": "markdown",
      "metadata": {
        "id": "RKg97mnua-xm"
      },
      "source": [
        "# **CONCLUDING WORDS:**\n",
        "\n",
        "Finalized model 1.1 and 1.2 have slight variations in accuracy and AUC. \n",
        "\n",
        "**When comparing, Model 1.1 has higher accuracy among the two, while model 1.2 has higher AUC among the two.**\n",
        "\n",
        "But since the **output class is highly imbalanced**, a **better judge of classifier performance is AUC than accuracy.**\n",
        "\n",
        "### **Hence finalized model is model 1.2**"
      ]
    }
  ]
}