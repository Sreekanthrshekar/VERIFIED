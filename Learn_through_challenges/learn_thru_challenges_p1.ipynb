{
 "cells": [
  {
   "cell_type": "markdown",
   "id": "becedb5d-cc46-4263-a636-0a67a0c6757a",
   "metadata": {},
   "source": [
    "# **LEARN THROUGH CHALLENGES - PART 1**\n",
    "### **CLASS CREATION**"
   ]
  },
  {
   "source": [
    "_AI and Big Data with Sreekanth R Shekar_"
   ],
   "cell_type": "markdown",
   "metadata": {}
  },
  {
   "cell_type": "markdown",
   "id": "59dafae8-b7a1-4dc7-af88-cb5156780afa",
   "metadata": {},
   "source": [
    "### **Challenge 1**\n",
    "\n",
    "**Create a class named 'Circle' which takes in radius as argument and has the following methods:**\n",
    "- diameter of circle: 2r\n",
    "- circumference of circle: 2* pi* r\n",
    "- area of circle: pi* r^2"
   ]
  },
  {
   "cell_type": "code",
   "execution_count": null,
   "id": "fdb3f762-79a1-4c71-a251-f42feb4b53c8",
   "metadata": {},
   "outputs": [],
   "source": []
  },
  {
   "cell_type": "markdown",
   "id": "5e35532d-9667-46ae-a826-674b81b80459",
   "metadata": {},
   "source": [
    "### **Challenge 2**\n",
    "\n",
    "**Create a class named 'Cone' which takes in radius and height as argument and has the following methods:**\n",
    "- volume of cone : pi*(r^2)*(h/3)\n",
    "- surface area of cone: pi*(r)*(r + sqrt(h^2 + r^2))"
   ]
  },
  {
   "cell_type": "code",
   "execution_count": null,
   "id": "01322261-a479-45bd-bc28-1f5cafc4d098",
   "metadata": {},
   "outputs": [],
   "source": []
  },
  {
   "cell_type": "markdown",
   "id": "4f339fe4-227c-4a01-83d8-e1084b77d539",
   "metadata": {},
   "source": [
    "### **Challenge 3**\n",
    "\n",
    "**Create a class named 'Line' which takes in two points on x,y plane (x1,y1) and (x2,y2) as argument and has the following methods:**\n",
    "- distance between points : sqrt((x2-x1)^2 + (y2-y1)^2)\n",
    "- slope of the line formed: (y2-y1)/(x2-x1)"
   ]
  },
  {
   "cell_type": "code",
   "execution_count": null,
   "id": "bb80010b-6ee1-467e-80f6-d414459464ad",
   "metadata": {},
   "outputs": [],
   "source": []
  },
  {
   "cell_type": "code",
   "execution_count": null,
   "id": "548524d4-a9fc-40d5-8c7c-aae967fd5013",
   "metadata": {},
   "outputs": [],
   "source": []
  },
  {
   "cell_type": "markdown",
   "id": "7424eac1-43a2-4a9a-bb30-3d4b12de820a",
   "metadata": {},
   "source": [
    "## **expected answers:**\n",
    "circle with radius 10\n",
    "- diameter of circle: 20\n",
    "- circumference of circle: ≈ 62.83\n",
    "- area of circle: ≈ 314.16\n"
   ]
  },
  {
   "cell_type": "markdown",
   "id": "94c0a8cb-be59-48d4-bedc-73bce060056a",
   "metadata": {},
   "source": [
    "cone with radius 1 and height 3\n",
    "\n",
    "- volume of cone : ≈ 3.14\n",
    "- surface area of cone: ≈ 13.08"
   ]
  },
  {
   "cell_type": "markdown",
   "id": "864951a3-0da4-4b8f-86e0-410b57ff1c5c",
   "metadata": {},
   "source": [
    "\n",
    ">(x1,y1) = (9,2)\n",
    "\n",
    ">(x2,y2) = (15,10)\n",
    "\n",
    "- distance between points : 10\n",
    "- slope of the line formed: 1.33\n",
    "\n"
   ]
  },
  {
   "cell_type": "code",
   "execution_count": null,
   "id": "8040215c-6631-4d42-b6f2-2f809a7ed00e",
   "metadata": {},
   "outputs": [],
   "source": []
  }
 ],
 "metadata": {
  "kernelspec": {
   "display_name": "Python 3",
   "language": "python",
   "name": "python3"
  },
  "language_info": {
   "codemirror_mode": {
    "name": "ipython",
    "version": 3
   },
   "file_extension": ".py",
   "mimetype": "text/x-python",
   "name": "python",
   "nbconvert_exporter": "python",
   "pygments_lexer": "ipython3",
   "version": "3.7.7"
  }
 },
 "nbformat": 4,
 "nbformat_minor": 5
}